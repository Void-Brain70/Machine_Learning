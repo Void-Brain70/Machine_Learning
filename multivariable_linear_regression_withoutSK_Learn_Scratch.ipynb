{
  "nbformat": 4,
  "nbformat_minor": 0,
  "metadata": {
    "colab": {
      "name": "multivariable_linear_regression_withoutSK-Learn_Scratch.ipynb",
      "provenance": [],
      "authorship_tag": "ABX9TyOC5EwBxuBJbPFizmugGsdW",
      "include_colab_link": true
    },
    "kernelspec": {
      "name": "python3",
      "display_name": "Python 3"
    },
    "language_info": {
      "name": "python"
    }
  },
  "cells": [
    {
      "cell_type": "markdown",
      "metadata": {
        "id": "view-in-github",
        "colab_type": "text"
      },
      "source": [
        "<a href=\"https://colab.research.google.com/github/Void-Brain70/Machine_Learning/blob/main/multivariable_linear_regression_withoutSK_Learn_Scratch.ipynb\" target=\"_parent\"><img src=\"https://colab.research.google.com/assets/colab-badge.svg\" alt=\"Open In Colab\"/></a>"
      ]
    },
    {
      "cell_type": "code",
      "metadata": {
        "id": "JKkVNKpodJfN"
      },
      "source": [
        "import numpy as np\n",
        "import pandas as pd\n",
        "import matplotlib.pyplot as plt"
      ],
      "execution_count": 1,
      "outputs": []
    },
    {
      "cell_type": "code",
      "metadata": {
        "colab": {
          "base_uri": "https://localhost:8080/",
          "height": 235
        },
        "id": "U8OGS6GhdUFo",
        "outputId": "5a4c8c3f-d99a-4f33-879f-c9adc6aeb5da"
      },
      "source": [
        "# Import the libraries and data\n",
        "df = pd.read_csv(\"/content/car driving risk analysis.csv\")\n",
        "df"
      ],
      "execution_count": 2,
      "outputs": [
        {
          "output_type": "execute_result",
          "data": {
            "text/html": [
              "<div>\n",
              "<style scoped>\n",
              "    .dataframe tbody tr th:only-of-type {\n",
              "        vertical-align: middle;\n",
              "    }\n",
              "\n",
              "    .dataframe tbody tr th {\n",
              "        vertical-align: top;\n",
              "    }\n",
              "\n",
              "    .dataframe thead th {\n",
              "        text-align: right;\n",
              "    }\n",
              "</style>\n",
              "<table border=\"1\" class=\"dataframe\">\n",
              "  <thead>\n",
              "    <tr style=\"text-align: right;\">\n",
              "      <th></th>\n",
              "      <th>speed</th>\n",
              "      <th>car_age</th>\n",
              "      <th>experience</th>\n",
              "      <th>risk</th>\n",
              "    </tr>\n",
              "  </thead>\n",
              "  <tbody>\n",
              "    <tr>\n",
              "      <th>0</th>\n",
              "      <td>200</td>\n",
              "      <td>15</td>\n",
              "      <td>5.0</td>\n",
              "      <td>85</td>\n",
              "    </tr>\n",
              "    <tr>\n",
              "      <th>1</th>\n",
              "      <td>90</td>\n",
              "      <td>17</td>\n",
              "      <td>13.0</td>\n",
              "      <td>20</td>\n",
              "    </tr>\n",
              "    <tr>\n",
              "      <th>2</th>\n",
              "      <td>165</td>\n",
              "      <td>12</td>\n",
              "      <td>4.0</td>\n",
              "      <td>93</td>\n",
              "    </tr>\n",
              "    <tr>\n",
              "      <th>3</th>\n",
              "      <td>110</td>\n",
              "      <td>20</td>\n",
              "      <td>NaN</td>\n",
              "      <td>60</td>\n",
              "    </tr>\n",
              "    <tr>\n",
              "      <th>4</th>\n",
              "      <td>140</td>\n",
              "      <td>5</td>\n",
              "      <td>3.0</td>\n",
              "      <td>82</td>\n",
              "    </tr>\n",
              "    <tr>\n",
              "      <th>5</th>\n",
              "      <td>115</td>\n",
              "      <td>2</td>\n",
              "      <td>8.0</td>\n",
              "      <td>10</td>\n",
              "    </tr>\n",
              "  </tbody>\n",
              "</table>\n",
              "</div>"
            ],
            "text/plain": [
              "   speed  car_age  experience  risk\n",
              "0    200       15         5.0    85\n",
              "1     90       17        13.0    20\n",
              "2    165       12         4.0    93\n",
              "3    110       20         NaN    60\n",
              "4    140        5         3.0    82\n",
              "5    115        2         8.0    10"
            ]
          },
          "metadata": {},
          "execution_count": 2
        }
      ]
    },
    {
      "cell_type": "code",
      "metadata": {
        "colab": {
          "base_uri": "https://localhost:8080/"
        },
        "id": "IX-ryh_8damH",
        "outputId": "cd4a706a-c56d-4661-9aec-f6b92cd7e8e5"
      },
      "source": [
        "exp_fit = df.experience.median()\n",
        "exp_fit"
      ],
      "execution_count": 3,
      "outputs": [
        {
          "output_type": "execute_result",
          "data": {
            "text/plain": [
              "5.0"
            ]
          },
          "metadata": {},
          "execution_count": 3
        }
      ]
    },
    {
      "cell_type": "code",
      "metadata": {
        "colab": {
          "base_uri": "https://localhost:8080/"
        },
        "id": "skg6cS0wdeR4",
        "outputId": "18503480-a750-49bd-bea6-3c836ba5335a"
      },
      "source": [
        "df.experience = df.experience.fillna(exp_fit)\n",
        "df.experience"
      ],
      "execution_count": 4,
      "outputs": [
        {
          "output_type": "execute_result",
          "data": {
            "text/plain": [
              "0     5.0\n",
              "1    13.0\n",
              "2     4.0\n",
              "3     5.0\n",
              "4     3.0\n",
              "5     8.0\n",
              "Name: experience, dtype: float64"
            ]
          },
          "metadata": {},
          "execution_count": 4
        }
      ]
    },
    {
      "cell_type": "code",
      "metadata": {
        "colab": {
          "base_uri": "https://localhost:8080/"
        },
        "id": "ul5TTFvgdfXo",
        "outputId": "68662f5e-626c-404a-b8b0-d6750d12cbfd"
      },
      "source": [
        "X = df.values[:, 0:2]  # get input values from first two columns\n",
        "y = df.values[:, 2]  # get output values from last coulmn\n",
        "m = len(y) # Number of training examples\n",
        "\n",
        "print('Total no of training examples (m) = %s \\n' %(m))\n",
        "\n",
        "# Show only first 5 records\n",
        "for i in range(5):\n",
        "    print('x =', X[i, ], ', y =', y[i])"
      ],
      "execution_count": 5,
      "outputs": [
        {
          "output_type": "stream",
          "name": "stdout",
          "text": [
            "Total no of training examples (m) = 6 \n",
            "\n",
            "x = [200.  15.] , y = 5.0\n",
            "x = [90. 17.] , y = 13.0\n",
            "x = [165.  12.] , y = 4.0\n",
            "x = [110.  20.] , y = 5.0\n",
            "x = [140.   5.] , y = 3.0\n"
          ]
        }
      ]
    },
    {
      "cell_type": "code",
      "metadata": {
        "id": "UPl5ebZOdtDq"
      },
      "source": [
        "def feature_normalize(X):\n",
        "  \"\"\"\n",
        "    Normalizes the features(input variables) in X.\n",
        "\n",
        "    Parameters\n",
        "    ----------\n",
        "    X : n dimensional array (matrix), shape (n_samples, n_features)\n",
        "        Features(input varibale) to be normalized.\n",
        "\n",
        "    Returns\n",
        "    -------\n",
        "    X_norm : n dimensional array (matrix), shape (n_samples, n_features)\n",
        "        A normalized version of X.\n",
        "    mu : n dimensional array (matrix), shape (n_features,)\n",
        "        The mean value.\n",
        "    sigma : n dimensional array (matrix), shape (n_features,)\n",
        "        The standard deviation.\n",
        "  \"\"\"\n",
        "  #Note here we need mean of indivdual column here, hence axis = 0\n",
        "  mu = np.mean(X, axis = 0)  \n",
        "  # Notice the parameter ddof (Delta Degrees of Freedom)  value is 1\n",
        "  sigma = np.std(X, axis= 0, ddof = 1)  # Standard deviation (can also use range)\n",
        "  X_norm = (X - mu)/sigma\n",
        "  return X_norm, mu, sigma"
      ],
      "execution_count": 7,
      "outputs": []
    },
    {
      "cell_type": "code",
      "metadata": {
        "colab": {
          "base_uri": "https://localhost:8080/"
        },
        "id": "ZGomGZ8ed4Yz",
        "outputId": "6bc51a18-9dc1-4670-aafb-07c60d786423"
      },
      "source": [
        "X, mu, sigma = feature_normalize(X)\n",
        "\n",
        "print('mu= ', mu)\n",
        "print('sigma= ', sigma)\n",
        "print('X_norm= ', X[:5])"
      ],
      "execution_count": 8,
      "outputs": [
        {
          "output_type": "stream",
          "name": "stdout",
          "text": [
            "mu=  [136.66666667  11.83333333]\n",
            "sigma=  [40.45573713  7.02614166]\n",
            "X_norm=  [[ 1.56549696  0.45069781]\n",
            " [-1.15352407  0.73534906]\n",
            " [ 0.7003539   0.02372094]\n",
            " [-0.65915661  1.16232593]\n",
            " [ 0.08239458 -0.97255843]]\n"
          ]
        }
      ]
    },
    {
      "cell_type": "code",
      "metadata": {
        "colab": {
          "base_uri": "https://localhost:8080/"
        },
        "id": "rSeG_d49d-x7",
        "outputId": "66b595fe-e571-4402-d344-887d9493177f"
      },
      "source": [
        "mu_testing = np.mean(X, axis = 0) # mean\n",
        "mu_testing"
      ],
      "execution_count": 9,
      "outputs": [
        {
          "output_type": "execute_result",
          "data": {
            "text/plain": [
              "array([ 2.40548322e-16, -1.11022302e-16])"
            ]
          },
          "metadata": {},
          "execution_count": 9
        }
      ]
    },
    {
      "cell_type": "code",
      "metadata": {
        "colab": {
          "base_uri": "https://localhost:8080/"
        },
        "id": "b7om6GTGd_8D",
        "outputId": "a24bdde4-ac43-414d-cfd5-41cb2d524ce6"
      },
      "source": [
        "sigma_testing = np.std(X, axis = 0, ddof = 1) # mean\n",
        "sigma_testing"
      ],
      "execution_count": 10,
      "outputs": [
        {
          "output_type": "execute_result",
          "data": {
            "text/plain": [
              "array([1., 1.])"
            ]
          },
          "metadata": {},
          "execution_count": 10
        }
      ]
    },
    {
      "cell_type": "code",
      "metadata": {
        "colab": {
          "base_uri": "https://localhost:8080/"
        },
        "id": "Ht0Xpf-4eF8b",
        "outputId": "7f10541f-c4b4-4be7-88b2-f472486f4c26"
      },
      "source": [
        "# Lets use hstack() function from numpy to add column of ones to X feature \n",
        "# This will be our final X matrix (feature matrix)\n",
        "X = np.hstack((np.ones((m,1)), X))\n",
        "X[:5]"
      ],
      "execution_count": 11,
      "outputs": [
        {
          "output_type": "execute_result",
          "data": {
            "text/plain": [
              "array([[ 1.        ,  1.56549696,  0.45069781],\n",
              "       [ 1.        , -1.15352407,  0.73534906],\n",
              "       [ 1.        ,  0.7003539 ,  0.02372094],\n",
              "       [ 1.        , -0.65915661,  1.16232593],\n",
              "       [ 1.        ,  0.08239458, -0.97255843]])"
            ]
          },
          "metadata": {},
          "execution_count": 11
        }
      ]
    },
    {
      "cell_type": "code",
      "metadata": {
        "id": "Eg6ft3UFeHKt"
      },
      "source": [
        "def compute_cost(X, y, theta):\n",
        "  \"\"\"\n",
        "  Compute the cost of a particular choice of theta for linear regression.\n",
        "\n",
        "  Input Parameters\n",
        "  ----------------\n",
        "  X : 2D array where each row represent the training example and each column represent the feature ndarray. Dimension(m x n)\n",
        "      m= number of training examples\n",
        "      n= number of features (including X_0 column of ones)\n",
        "  y : 1D array of labels/target value for each traing example. dimension(1 x m)\n",
        "\n",
        "  theta : 1D array of fitting parameters or weights. Dimension (1 x n)\n",
        "\n",
        "  Output Parameters\n",
        "  -----------------\n",
        "  J : Scalar value.\n",
        "  \"\"\"\n",
        "  predictions = X.dot(theta)\n",
        "  #print('predictions= ', predictions[:5])\n",
        "  errors = np.subtract(predictions, y)\n",
        "  #print('errors= ', errors[:5]) \n",
        "  sqrErrors = np.square(errors)\n",
        "  #print('sqrErrors= ', sqrErrors[:5]) \n",
        "  #J = 1 / (2 * m) * np.sum(sqrErrors)\n",
        "  # OR\n",
        "  # We can merge 'square' and 'sum' into one by taking the transpose of matrix 'errors' and taking dot product with itself\n",
        "  # If your confuse about this try to do this with few values for better understanding  \n",
        "  J = 1/(2 * m) * errors.T.dot(errors)\n",
        "\n",
        "  return J"
      ],
      "execution_count": 12,
      "outputs": []
    },
    {
      "cell_type": "code",
      "metadata": {
        "id": "EPTFJgOjeN5G"
      },
      "source": [
        "def gradient_descent(X, y, theta, alpha, iterations):\n",
        "  \"\"\"\n",
        "  Compute cost for linear regression.\n",
        "\n",
        "  Input Parameters\n",
        "  ----------------\n",
        "  X : 2D array where each row represent the training example and each column represent the feature ndarray. Dimension(m x n)\n",
        "      m= number of training examples\n",
        "      n= number of features (including X_0 column of ones)\n",
        "  y : 1D array of labels/target value for each traing example. dimension(m x 1)\n",
        "  theta : 1D array of fitting parameters or weights. Dimension (1 x n)\n",
        "  alpha : Learning rate. Scalar value\n",
        "  iterations: No of iterations. Scalar value. \n",
        "\n",
        "  Output Parameters\n",
        "  -----------------\n",
        "  theta : Final Value. 1D array of fitting parameters or weights. Dimension (1 x n)\n",
        "  cost_history: Conatins value of cost for each iteration. 1D array. Dimansion(m x 1)\n",
        "  \"\"\"\n",
        "  cost_history = np.zeros(iterations)\n",
        "\n",
        "  for i in range(iterations):\n",
        "    predictions = X.dot(theta)\n",
        "    #print('predictions= ', predictions[:5])\n",
        "    errors = np.subtract(predictions, y)\n",
        "    #print('errors= ', errors[:5])\n",
        "    sum_delta = (alpha / m) * X.transpose().dot(errors);\n",
        "    #print('sum_delta= ', sum_delta[:5])\n",
        "    theta = theta - sum_delta;\n",
        "\n",
        "    cost_history[i] = compute_cost(X, y, theta)  \n",
        "\n",
        "  return theta, cost_history"
      ],
      "execution_count": 13,
      "outputs": []
    },
    {
      "cell_type": "code",
      "metadata": {
        "id": "vNjLUqw5ePS1"
      },
      "source": [
        "# We need theta parameter for every input variable. since we have three input variable including X_0 (column of ones)\n",
        "theta = np.zeros(3)\n",
        "iterations = 400;\n",
        "alpha = 0.15;"
      ],
      "execution_count": 14,
      "outputs": []
    },
    {
      "cell_type": "code",
      "metadata": {
        "colab": {
          "base_uri": "https://localhost:8080/"
        },
        "id": "GHy5jUSMeVDm",
        "outputId": "02a40f65-b60a-4135-fc11-3efa5aa61247"
      },
      "source": [
        "theta, cost_history = gradient_descent(X, y, theta, alpha, iterations)\n",
        "print('Final value of theta =', theta)\n",
        "print('First 5 values from cost_history =', cost_history[:5])\n",
        "print('Last 5 values from cost_history =', cost_history[-5 :])"
      ],
      "execution_count": 15,
      "outputs": [
        {
          "output_type": "stream",
          "name": "stdout",
          "text": [
            "Final value of theta = [ 6.33333333 -2.31246357  0.61806834]\n",
            "First 5 values from cost_history = [19.51671768 15.05134915 11.80833506  9.45246658  7.74060332]\n",
            "Last 5 values from cost_history = [3.17074534 3.17074534 3.17074534 3.17074534 3.17074534]\n"
          ]
        }
      ]
    },
    {
      "cell_type": "code",
      "metadata": {
        "colab": {
          "base_uri": "https://localhost:8080/",
          "height": 312
        },
        "id": "M1vDBeoTeXZW",
        "outputId": "57e87282-1e7f-42b0-ea25-ed9c86716b66"
      },
      "source": [
        "import matplotlib.pyplot as plt\n",
        "plt.plot(range(1, iterations +1), cost_history, color ='blue')\n",
        "plt.rcParams[\"figure.figsize\"] = (10,6)\n",
        "plt.grid()\n",
        "plt.xlabel(\"Number of iterations\")\n",
        "plt.ylabel(\"cost (J)\")\n",
        "plt.title(\"Convergence of gradient descent\")"
      ],
      "execution_count": 16,
      "outputs": [
        {
          "output_type": "execute_result",
          "data": {
            "text/plain": [
              "Text(0.5, 1.0, 'Convergence of gradient descent')"
            ]
          },
          "metadata": {},
          "execution_count": 16
        },
        {
          "output_type": "display_data",
          "data": {
            "image/png": "[encoded data removed]",
            "text/plain": [
              "<Figure size 432x288 with 1 Axes>"
            ]
          },
          "metadata": {
            "needs_background": "light"
          }
        }
      ]
    },
    {
      "cell_type": "code",
      "metadata": {
        "colab": {
          "base_uri": "https://localhost:8080/",
          "height": 421
        },
        "id": "iXsMw5pHed1_",
        "outputId": "98b8ec43-1284-4105-db79-bc19e9218401"
      },
      "source": [
        "iterations = 400;\n",
        "theta = np.zeros(3)\n",
        "\n",
        "alpha = 0.005;\n",
        "theta_1, cost_history_1 = gradient_descent(X, y, theta, alpha, iterations)\n",
        "\n",
        "alpha = 0.01;\n",
        "theta_2, cost_history_2 = gradient_descent(X, y, theta, alpha, iterations)\n",
        "\n",
        "alpha = 0.02;\n",
        "theta_3, cost_history_3 = gradient_descent(X, y, theta, alpha, iterations)\n",
        "\n",
        "alpha = 0.03;\n",
        "theta_4, cost_history_4 = gradient_descent(X, y, theta, alpha, iterations)\n",
        "\n",
        "alpha = 0.15;\n",
        "theta_5, cost_history_5 = gradient_descent(X, y, theta, alpha, iterations)\n",
        "\n",
        "plt.plot(range(1, iterations +1), cost_history_1, color ='purple', label = 'alpha = 0.005')\n",
        "plt.plot(range(1, iterations +1), cost_history_2, color ='red', label = 'alpha = 0.01')\n",
        "plt.plot(range(1, iterations +1), cost_history_3, color ='green', label = 'alpha = 0.02')\n",
        "plt.plot(range(1, iterations +1), cost_history_4, color ='yellow', label = 'alpha = 0.03')\n",
        "plt.plot(range(1, iterations +1), cost_history_5, color ='blue', label = 'alpha = 0.15')\n",
        "\n",
        "plt.rcParams[\"figure.figsize\"] = (10,6)\n",
        "plt.grid()\n",
        "plt.xlabel(\"Number of iterations\")\n",
        "plt.ylabel(\"cost (J)\")\n",
        "plt.title(\"Effect of Learning Rate On Convergence of Gradient Descent\")\n",
        "plt.legend()\n"
      ],
      "execution_count": 17,
      "outputs": [
        {
          "output_type": "execute_result",
          "data": {
            "text/plain": [
              "<matplotlib.legend.Legend at 0x7fa6a2195b10>"
            ]
          },
          "metadata": {},
          "execution_count": 17
        },
        {
          "output_type": "display_data",
          "data": {
            "image/png": "[encoded data removed]",
            "text/plain": [
              "<Figure size 720x432 with 1 Axes>"
            ]
          },
          "metadata": {
            "needs_background": "light"
          }
        }
      ]
    },
    {
      "cell_type": "code",
      "metadata": {
        "colab": {
          "base_uri": "https://localhost:8080/",
          "height": 421
        },
        "id": "0c0hlXL5egqn",
        "outputId": "08a44e74-2c39-4a64-c19a-2cd8603f9f0f"
      },
      "source": [
        "iterations = 100;\n",
        "theta = np.zeros(3)\n",
        "\n",
        "alpha = 1.32;\n",
        "theta_6, cost_history_6 = gradient_descent(X, y, theta, alpha, iterations)\n",
        "\n",
        "plt.plot(range(1, iterations +1), cost_history_6, color ='brown')\n",
        "plt.rcParams[\"figure.figsize\"] = (10,6)\n",
        "plt.grid()\n",
        "plt.xlabel(\"Number of iterations\")\n",
        "plt.ylabel(\"cost (J)\")\n",
        "plt.title(\"Effect of Large Learning Rate On Convergence of Gradient Descent\")"
      ],
      "execution_count": 18,
      "outputs": [
        {
          "output_type": "execute_result",
          "data": {
            "text/plain": [
              "Text(0.5, 1.0, 'Effect of Large Learning Rate On Convergence of Gradient Descent')"
            ]
          },
          "metadata": {},
          "execution_count": 18
        },
        {
          "output_type": "display_data",
          "data": {
            "image/png": "[encoded data removed]",
            "text/plain": [
              "<Figure size 720x432 with 1 Axes>"
            ]
          },
          "metadata": {
            "needs_background": "light"
          }
        }
      ]
    },
    {
      "cell_type": "code",
      "metadata": {
        "id": "t5XEnef2emwQ"
      },
      "source": [
        "# https://satishgunjal.com/multivariate_lr/"
      ],
      "execution_count": 20,
      "outputs": []
    }
  ]
}