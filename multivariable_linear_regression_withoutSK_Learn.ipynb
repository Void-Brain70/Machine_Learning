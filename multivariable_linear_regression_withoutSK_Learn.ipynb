{
  "nbformat": 4,
  "nbformat_minor": 0,
  "metadata": {
    "colab": {
      "name": "multivariable_linear_regression_withoutSK-Learn.ipynb",
      "provenance": [],
      "authorship_tag": "ABX9TyMLp085ETwggWYmewQsN0Y3",
      "include_colab_link": true
    },
    "kernelspec": {
      "name": "python3",
      "display_name": "Python 3"
    },
    "language_info": {
      "name": "python"
    }
  },
  "cells": [
    {
      "cell_type": "markdown",
      "metadata": {
        "id": "view-in-github",
        "colab_type": "text"
      },
      "source": [
        "<a href=\"https://colab.research.google.com/github/Void-Brain70/Machine_Learning/blob/main/multivariable_linear_regression_withoutSK_Learn.ipynb\" target=\"_parent\"><img src=\"https://colab.research.google.com/assets/colab-badge.svg\" alt=\"Open In Colab\"/></a>"
      ]
    },
    {
      "cell_type": "code",
      "metadata": {
        "id": "vOeW5EbJWyMz"
      },
      "source": [
        "import numpy as np\n",
        "import pandas as pd\n",
        "import matplotlib.pyplot as plt"
      ],
      "execution_count": 1,
      "outputs": []
    },
    {
      "cell_type": "code",
      "metadata": {
        "colab": {
          "base_uri": "https://localhost:8080/",
          "height": 235
        },
        "id": "7niBiRN2aWqi",
        "outputId": "95f9be7a-4c29-40bb-b760-a4ba1e4c2b3c"
      },
      "source": [
        "# Import the libraries and data\n",
        "df = pd.read_csv(\"/content/car driving risk analysis.csv\")\n",
        "df"
      ],
      "execution_count": 2,
      "outputs": [
        {
          "output_type": "execute_result",
          "data": {
            "text/html": [
              "<div>\n",
              "<style scoped>\n",
              "    .dataframe tbody tr th:only-of-type {\n",
              "        vertical-align: middle;\n",
              "    }\n",
              "\n",
              "    .dataframe tbody tr th {\n",
              "        vertical-align: top;\n",
              "    }\n",
              "\n",
              "    .dataframe thead th {\n",
              "        text-align: right;\n",
              "    }\n",
              "</style>\n",
              "<table border=\"1\" class=\"dataframe\">\n",
              "  <thead>\n",
              "    <tr style=\"text-align: right;\">\n",
              "      <th></th>\n",
              "      <th>speed</th>\n",
              "      <th>car_age</th>\n",
              "      <th>experience</th>\n",
              "      <th>risk</th>\n",
              "    </tr>\n",
              "  </thead>\n",
              "  <tbody>\n",
              "    <tr>\n",
              "      <th>0</th>\n",
              "      <td>200</td>\n",
              "      <td>15</td>\n",
              "      <td>5.0</td>\n",
              "      <td>85</td>\n",
              "    </tr>\n",
              "    <tr>\n",
              "      <th>1</th>\n",
              "      <td>90</td>\n",
              "      <td>17</td>\n",
              "      <td>13.0</td>\n",
              "      <td>20</td>\n",
              "    </tr>\n",
              "    <tr>\n",
              "      <th>2</th>\n",
              "      <td>165</td>\n",
              "      <td>12</td>\n",
              "      <td>4.0</td>\n",
              "      <td>93</td>\n",
              "    </tr>\n",
              "    <tr>\n",
              "      <th>3</th>\n",
              "      <td>110</td>\n",
              "      <td>20</td>\n",
              "      <td>NaN</td>\n",
              "      <td>60</td>\n",
              "    </tr>\n",
              "    <tr>\n",
              "      <th>4</th>\n",
              "      <td>140</td>\n",
              "      <td>5</td>\n",
              "      <td>3.0</td>\n",
              "      <td>82</td>\n",
              "    </tr>\n",
              "    <tr>\n",
              "      <th>5</th>\n",
              "      <td>115</td>\n",
              "      <td>2</td>\n",
              "      <td>8.0</td>\n",
              "      <td>10</td>\n",
              "    </tr>\n",
              "  </tbody>\n",
              "</table>\n",
              "</div>"
            ],
            "text/plain": [
              "   speed  car_age  experience  risk\n",
              "0    200       15         5.0    85\n",
              "1     90       17        13.0    20\n",
              "2    165       12         4.0    93\n",
              "3    110       20         NaN    60\n",
              "4    140        5         3.0    82\n",
              "5    115        2         8.0    10"
            ]
          },
          "metadata": {},
          "execution_count": 2
        }
      ]
    },
    {
      "cell_type": "code",
      "metadata": {
        "colab": {
          "base_uri": "https://localhost:8080/"
        },
        "id": "gNKZzjebajwy",
        "outputId": "5b348a7d-779e-4c99-9e32-689034e7fc11"
      },
      "source": [
        "exp_fit = df.experience.median()\n",
        "exp_fit"
      ],
      "execution_count": 3,
      "outputs": [
        {
          "output_type": "execute_result",
          "data": {
            "text/plain": [
              "5.0"
            ]
          },
          "metadata": {},
          "execution_count": 3
        }
      ]
    },
    {
      "cell_type": "code",
      "metadata": {
        "colab": {
          "base_uri": "https://localhost:8080/"
        },
        "id": "3J7FBQx8auX9",
        "outputId": "030d55c9-0dab-46b4-e65b-975b269a435f"
      },
      "source": [
        "df.experience = df.experience.fillna(exp_fit)\n",
        "df.experience"
      ],
      "execution_count": 4,
      "outputs": [
        {
          "output_type": "execute_result",
          "data": {
            "text/plain": [
              "0     5.0\n",
              "1    13.0\n",
              "2     4.0\n",
              "3     5.0\n",
              "4     3.0\n",
              "5     8.0\n",
              "Name: experience, dtype: float64"
            ]
          },
          "metadata": {},
          "execution_count": 4
        }
      ]
    },
    {
      "cell_type": "code",
      "metadata": {
        "colab": {
          "base_uri": "https://localhost:8080/",
          "height": 204
        },
        "id": "nxqCYvDUawM9",
        "outputId": "9137a8ee-90bb-4b48-c8a1-411e34df9769"
      },
      "source": [
        "# Normalize the data\n",
        "df = (df - df.mean())/df.std()\n",
        "df.head()"
      ],
      "execution_count": 5,
      "outputs": [
        {
          "output_type": "execute_result",
          "data": {
            "text/html": [
              "<div>\n",
              "<style scoped>\n",
              "    .dataframe tbody tr th:only-of-type {\n",
              "        vertical-align: middle;\n",
              "    }\n",
              "\n",
              "    .dataframe tbody tr th {\n",
              "        vertical-align: top;\n",
              "    }\n",
              "\n",
              "    .dataframe thead th {\n",
              "        text-align: right;\n",
              "    }\n",
              "</style>\n",
              "<table border=\"1\" class=\"dataframe\">\n",
              "  <thead>\n",
              "    <tr style=\"text-align: right;\">\n",
              "      <th></th>\n",
              "      <th>speed</th>\n",
              "      <th>car_age</th>\n",
              "      <th>experience</th>\n",
              "      <th>risk</th>\n",
              "    </tr>\n",
              "  </thead>\n",
              "  <tbody>\n",
              "    <tr>\n",
              "      <th>0</th>\n",
              "      <td>1.565497</td>\n",
              "      <td>0.450698</td>\n",
              "      <td>-0.363336</td>\n",
              "      <td>0.752364</td>\n",
              "    </tr>\n",
              "    <tr>\n",
              "      <th>1</th>\n",
              "      <td>-1.153524</td>\n",
              "      <td>0.735349</td>\n",
              "      <td>1.816681</td>\n",
              "      <td>-1.081523</td>\n",
              "    </tr>\n",
              "    <tr>\n",
              "      <th>2</th>\n",
              "      <td>0.700354</td>\n",
              "      <td>0.023721</td>\n",
              "      <td>-0.635838</td>\n",
              "      <td>0.978073</td>\n",
              "    </tr>\n",
              "    <tr>\n",
              "      <th>3</th>\n",
              "      <td>-0.659157</td>\n",
              "      <td>1.162326</td>\n",
              "      <td>-0.363336</td>\n",
              "      <td>0.047023</td>\n",
              "    </tr>\n",
              "    <tr>\n",
              "      <th>4</th>\n",
              "      <td>0.082395</td>\n",
              "      <td>-0.972558</td>\n",
              "      <td>-0.908341</td>\n",
              "      <td>0.667723</td>\n",
              "    </tr>\n",
              "  </tbody>\n",
              "</table>\n",
              "</div>"
            ],
            "text/plain": [
              "      speed   car_age  experience      risk\n",
              "0  1.565497  0.450698   -0.363336  0.752364\n",
              "1 -1.153524  0.735349    1.816681 -1.081523\n",
              "2  0.700354  0.023721   -0.635838  0.978073\n",
              "3 -0.659157  1.162326   -0.363336  0.047023\n",
              "4  0.082395 -0.972558   -0.908341  0.667723"
            ]
          },
          "metadata": {},
          "execution_count": 5
        }
      ]
    },
    {
      "cell_type": "code",
      "metadata": {
        "id": "RJFO5lCxa8su"
      },
      "source": [
        "# Create matrices and set hyperparameters\n",
        "X = df.iloc[:,0:2]\n",
        "ones = np.ones([X.shape[0],1])\n",
        "X = np.concatenate((ones,X),axis=1)\n",
        "\n",
        "y = df.iloc[:,2:3].values #.values converts it from pandas.core.frame.DataFrame to numpy.ndarray\n",
        "theta = np.zeros([1,3])\n",
        "\n",
        "#set hyper parameters\n",
        "alpha = 0.01\n",
        "iters = 1000"
      ],
      "execution_count": 6,
      "outputs": []
    },
    {
      "cell_type": "code",
      "metadata": {
        "id": "G4nNiP71bLRf"
      },
      "source": [
        "#Create the cost function\n",
        "def computeCost(X,y,theta):\n",
        "    tobesummed = np.power(((X @ theta.T)-y),2)\n",
        "    return np.sum(tobesummed)/(2 * len(X))"
      ],
      "execution_count": 7,
      "outputs": []
    },
    {
      "cell_type": "code",
      "metadata": {
        "colab": {
          "base_uri": "https://localhost:8080/"
        },
        "id": "qg7fBGOWbkb6",
        "outputId": "52e5a704-5763-49ab-81e4-e1d5382cb3cb"
      },
      "source": [
        "#Create the Gradient Descent function\n",
        "#gradient descent\n",
        "def gradientDescent(X,y,theta,iters,alpha):\n",
        "    cost = np.zeros(iters)\n",
        "    for i in range(iters):\n",
        "        theta = theta - (alpha/len(X)) * np.sum(X * (X @ theta.T - y), axis=0)\n",
        "        cost[i] = computeCost(X, y, theta)\n",
        "    \n",
        "    return theta,cost\n",
        "\n",
        "#running the gd and cost function\n",
        "g,cost = gradientDescent(X,y,theta,iters,alpha)\n",
        "print(g)\n",
        "\n",
        "finalCost = computeCost(X,y,g)\n",
        "print(finalCost)"
      ],
      "execution_count": 8,
      "outputs": [
        {
          "output_type": "stream",
          "name": "stdout",
          "text": [
            "[[ 2.49800181e-16 -6.30009659e-01  1.68439151e-01]]\n",
            "0.23545139465961862\n"
          ]
        }
      ]
    },
    {
      "cell_type": "code",
      "metadata": {
        "colab": {
          "base_uri": "https://localhost:8080/",
          "height": 312
        },
        "id": "i79vf4Hmbw1k",
        "outputId": "c34d460b-2b0f-49be-f430-0f497ecb18ac"
      },
      "source": [
        "#plot the cost\n",
        "fig, ax = plt.subplots()  \n",
        "ax.plot(np.arange(iters), cost, 'r')  \n",
        "ax.set_xlabel('Iterations')  \n",
        "ax.set_ylabel('Cost')  \n",
        "ax.set_title('Error vs. Training Epoch')"
      ],
      "execution_count": 9,
      "outputs": [
        {
          "output_type": "execute_result",
          "data": {
            "text/plain": [
              "Text(0.5, 1.0, 'Error vs. Training Epoch')"
            ]
          },
          "metadata": {},
          "execution_count": 9
        },
        {
          "output_type": "display_data",
          "data": {
            "image/png": "[encoded data removed]",
            "text/plain": [
              "<Figure size 432x288 with 1 Axes>"
            ]
          },
          "metadata": {
            "needs_background": "light"
          }
        }
      ]
    }
  ]
}