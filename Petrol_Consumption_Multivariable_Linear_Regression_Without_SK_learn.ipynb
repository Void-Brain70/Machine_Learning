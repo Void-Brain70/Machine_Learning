{
  "nbformat": 4,
  "nbformat_minor": 0,
  "metadata": {
    "colab": {
      "name": "Petrol_Consumption_Multivariable_Linear_Regression_Without_SK_learn.ipynb",
      "provenance": [],
      "collapsed_sections": [],
      "authorship_tag": "ABX9TyO35xYDy8k5VhZtpxoynWaK",
      "include_colab_link": true
    },
    "kernelspec": {
      "name": "python3",
      "display_name": "Python 3"
    },
    "language_info": {
      "name": "python"
    }
  },
  "cells": [
    {
      "cell_type": "markdown",
      "metadata": {
        "id": "view-in-github",
        "colab_type": "text"
      },
      "source": [
        "<a href=\"https://colab.research.google.com/github/Void-Brain70/Machine_Learning/blob/main/Petrol_Consumption_Multivariable_Linear_Regression_Without_SK_learn.ipynb\" target=\"_parent\"><img src=\"https://colab.research.google.com/assets/colab-badge.svg\" alt=\"Open In Colab\"/></a>"
      ]
    },
    {
      "cell_type": "markdown",
      "metadata": {
        "id": "yQLmlt3Q9sDb"
      },
      "source": [
        "\n",
        "\n",
        "\n",
        "\n",
        "\n",
        "**Petrol_Consumption_Multivariable_Linear_Regression_Without_SK-Learn**"
      ]
    },
    {
      "cell_type": "code",
      "metadata": {
        "colab": {
          "base_uri": "https://localhost:8080/",
          "height": 205
        },
        "id": "gg6Afu639ViD",
        "outputId": "2350605c-9fac-4388-aeba-9a0a97e4b6b3"
      },
      "source": [
        "# dataset\n",
        "\n",
        "import os\n",
        "import io\n",
        "import pandas as pd\n",
        "import matplotlib.pyplot as plt # for ploting\n",
        "import seaborn as sns # for ploting 3D data\n",
        "%matplotlib inline\n",
        "\n",
        "df = pd.read_csv('/content/petrol_consumption.csv')\n",
        "df.head()"
      ],
      "execution_count": 9,
      "outputs": [
        {
          "output_type": "execute_result",
          "data": {
            "text/html": [
              "<div>\n",
              "<style scoped>\n",
              "    .dataframe tbody tr th:only-of-type {\n",
              "        vertical-align: middle;\n",
              "    }\n",
              "\n",
              "    .dataframe tbody tr th {\n",
              "        vertical-align: top;\n",
              "    }\n",
              "\n",
              "    .dataframe thead th {\n",
              "        text-align: right;\n",
              "    }\n",
              "</style>\n",
              "<table border=\"1\" class=\"dataframe\">\n",
              "  <thead>\n",
              "    <tr style=\"text-align: right;\">\n",
              "      <th></th>\n",
              "      <th>Petrol_tax</th>\n",
              "      <th>Average_income</th>\n",
              "      <th>Paved_Highways</th>\n",
              "      <th>Population_Driver_licence(%)</th>\n",
              "      <th>Petrol_Consumption</th>\n",
              "    </tr>\n",
              "  </thead>\n",
              "  <tbody>\n",
              "    <tr>\n",
              "      <th>0</th>\n",
              "      <td>9.0</td>\n",
              "      <td>3571</td>\n",
              "      <td>1976</td>\n",
              "      <td>0.525</td>\n",
              "      <td>541</td>\n",
              "    </tr>\n",
              "    <tr>\n",
              "      <th>1</th>\n",
              "      <td>9.0</td>\n",
              "      <td>4092</td>\n",
              "      <td>1250</td>\n",
              "      <td>0.572</td>\n",
              "      <td>524</td>\n",
              "    </tr>\n",
              "    <tr>\n",
              "      <th>2</th>\n",
              "      <td>9.0</td>\n",
              "      <td>3865</td>\n",
              "      <td>1586</td>\n",
              "      <td>0.580</td>\n",
              "      <td>561</td>\n",
              "    </tr>\n",
              "    <tr>\n",
              "      <th>3</th>\n",
              "      <td>7.5</td>\n",
              "      <td>4870</td>\n",
              "      <td>2351</td>\n",
              "      <td>0.529</td>\n",
              "      <td>414</td>\n",
              "    </tr>\n",
              "    <tr>\n",
              "      <th>4</th>\n",
              "      <td>8.0</td>\n",
              "      <td>4399</td>\n",
              "      <td>431</td>\n",
              "      <td>0.544</td>\n",
              "      <td>410</td>\n",
              "    </tr>\n",
              "  </tbody>\n",
              "</table>\n",
              "</div>"
            ],
            "text/plain": [
              "   Petrol_tax  Average_income  ...  Population_Driver_licence(%)  Petrol_Consumption\n",
              "0         9.0            3571  ...                         0.525                 541\n",
              "1         9.0            4092  ...                         0.572                 524\n",
              "2         9.0            3865  ...                         0.580                 561\n",
              "3         7.5            4870  ...                         0.529                 414\n",
              "4         8.0            4399  ...                         0.544                 410\n",
              "\n",
              "[5 rows x 5 columns]"
            ]
          },
          "metadata": {},
          "execution_count": 9
        }
      ]
    },
    {
      "cell_type": "code",
      "metadata": {
        "colab": {
          "base_uri": "https://localhost:8080/",
          "height": 205
        },
        "id": "yf4UBs91Axpk",
        "outputId": "137f3b21-f612-411e-b584-4b5e28d2e88f"
      },
      "source": [
        "df = df.rename(columns={'Petrol_tax': 'x1', 'Average_income': 'x2', 'Paved_Highways': 'x3', 'Population_Driver_licence(%)': 'x4', 'Petrol_Consumption': 'y'})\n",
        "df.head()"
      ],
      "execution_count": 10,
      "outputs": [
        {
          "output_type": "execute_result",
          "data": {
            "text/html": [
              "<div>\n",
              "<style scoped>\n",
              "    .dataframe tbody tr th:only-of-type {\n",
              "        vertical-align: middle;\n",
              "    }\n",
              "\n",
              "    .dataframe tbody tr th {\n",
              "        vertical-align: top;\n",
              "    }\n",
              "\n",
              "    .dataframe thead th {\n",
              "        text-align: right;\n",
              "    }\n",
              "</style>\n",
              "<table border=\"1\" class=\"dataframe\">\n",
              "  <thead>\n",
              "    <tr style=\"text-align: right;\">\n",
              "      <th></th>\n",
              "      <th>x1</th>\n",
              "      <th>x2</th>\n",
              "      <th>x3</th>\n",
              "      <th>x4</th>\n",
              "      <th>y</th>\n",
              "    </tr>\n",
              "  </thead>\n",
              "  <tbody>\n",
              "    <tr>\n",
              "      <th>0</th>\n",
              "      <td>9.0</td>\n",
              "      <td>3571</td>\n",
              "      <td>1976</td>\n",
              "      <td>0.525</td>\n",
              "      <td>541</td>\n",
              "    </tr>\n",
              "    <tr>\n",
              "      <th>1</th>\n",
              "      <td>9.0</td>\n",
              "      <td>4092</td>\n",
              "      <td>1250</td>\n",
              "      <td>0.572</td>\n",
              "      <td>524</td>\n",
              "    </tr>\n",
              "    <tr>\n",
              "      <th>2</th>\n",
              "      <td>9.0</td>\n",
              "      <td>3865</td>\n",
              "      <td>1586</td>\n",
              "      <td>0.580</td>\n",
              "      <td>561</td>\n",
              "    </tr>\n",
              "    <tr>\n",
              "      <th>3</th>\n",
              "      <td>7.5</td>\n",
              "      <td>4870</td>\n",
              "      <td>2351</td>\n",
              "      <td>0.529</td>\n",
              "      <td>414</td>\n",
              "    </tr>\n",
              "    <tr>\n",
              "      <th>4</th>\n",
              "      <td>8.0</td>\n",
              "      <td>4399</td>\n",
              "      <td>431</td>\n",
              "      <td>0.544</td>\n",
              "      <td>410</td>\n",
              "    </tr>\n",
              "  </tbody>\n",
              "</table>\n",
              "</div>"
            ],
            "text/plain": [
              "    x1    x2    x3     x4    y\n",
              "0  9.0  3571  1976  0.525  541\n",
              "1  9.0  4092  1250  0.572  524\n",
              "2  9.0  3865  1586  0.580  561\n",
              "3  7.5  4870  2351  0.529  414\n",
              "4  8.0  4399   431  0.544  410"
            ]
          },
          "metadata": {},
          "execution_count": 10
        }
      ]
    },
    {
      "cell_type": "code",
      "metadata": {
        "id": "T2ZmO_f-Ji87"
      },
      "source": [
        "x1 = df.x1\n",
        "x2 = df.x2 \n",
        "x3 = df.x3 \n",
        "x4 = df.x4\n",
        "y  = df.y "
      ],
      "execution_count": 11,
      "outputs": []
    },
    {
      "cell_type": "code",
      "metadata": {
        "id": "Wzu0gAWv-fd4"
      },
      "source": [
        "def predict(t0,t1,t2,t3,t4,x1,x2,x3,x4):\n",
        "    return t0 + t1 * x1 + t2 * x2 + t3 * x3 + t4 * x4 "
      ],
      "execution_count": 12,
      "outputs": []
    },
    {
      "cell_type": "code",
      "metadata": {
        "id": "Jy-4-o4TBb74"
      },
      "source": [
        "def computeCost(t0,t1,t2,t3,t4,x1,x2,x3,x4,y):\n",
        "    # Getting number of data\n",
        "    m = float(len(y))\n",
        "    loss = []\n",
        "    # Iterating over all of the data\n",
        "    for i in range(len(y)):\n",
        "        # Getting prediction using the parameter [t0, t1, t2]\n",
        "        h = predict(t0,t1,t2,t3,t4,x1[i],x2[i],x3[i],x4[i])\n",
        "        # Adding the losses to the list\n",
        "        loss.append((h - y[i])**2)\n",
        "\n",
        "    return (sum(loss) / (2 * m))"
      ],
      "execution_count": 13,
      "outputs": []
    },
    {
      "cell_type": "code",
      "metadata": {
        "id": "Xzo8t3HNB2WT"
      },
      "source": [
        "def plot_cost_vs_iteration(costs):\n",
        "    plt.plot([i for i in range(len(costs))], costs)\n",
        "    plt.title(\"Cost vs Iteration\")\n",
        "    plt.xlabel(\"Iteration\")\n",
        "    plt.ylabel(\"Cost\")\n",
        "    plt.show()"
      ],
      "execution_count": 14,
      "outputs": []
    },
    {
      "cell_type": "code",
      "metadata": {
        "colab": {
          "base_uri": "https://localhost:8080/",
          "height": 840
        },
        "id": "oksvlrktB952",
        "outputId": "30300bb0-d6c5-484c-f5d5-f925a238dfa5"
      },
      "source": [
        "# Parameters to be updated\n",
        "t0 = 425.599332\n",
        "t1 = -40.016660\n",
        "t2 = -0.065413\n",
        "t3 = -0.004741\n",
        "t4 = 1341.862121\n",
        "# x1=[]\n",
        "# x2=[]\n",
        "# x3=[]\n",
        "# x4=[]\n",
        "# print(x1)\n",
        "# print(x2)\n",
        "# print(x3)\n",
        "# print(x4)\n",
        "# Data Length\n",
        "m = float(len(y))\n",
        "\n",
        "# Epoch [No. of iterations]\n",
        "epoch = 30\n",
        "\n",
        "# Learning Rate\n",
        "alpha =  0.001\n",
        "\n",
        "# Costs\n",
        "costs = []\n",
        "\n",
        "# Batch Gradient Descent\n",
        "for k in range(epoch):\n",
        "\n",
        "    _theta_temp_0 = t0 + (alpha / m) * sum([(y[k] - predict(t0,t1,t2,t3,t4,x1[k],x2[k],x3[k],x4[k]))\n",
        "                                                     for k in range(len(y))\n",
        "                                                 ])\n",
        "\n",
        "    _theta_temp_1 = t1 + (alpha / m) * sum([(y[k] - predict(t0,t1,t2,t3,t4,x1[k],x2[k],x3[k],x4[k])) * x1[k]\n",
        "                                                     for k in range(len(y))\n",
        "                                                 ])\n",
        "\n",
        "    _theta_temp_2 = t2 + (alpha / m) * sum([(y[k] - predict(t0,t1,t2,t3,t4,x1[k],x2[k],x3[k],x4[k])) * x2[k]\n",
        "                                                     for k in range(len(y))\n",
        "                                                 ])\n",
        "\n",
        "    _theta_temp_3 = t3 + (alpha / m) * sum([(y[k] - predict(t0,t1,t2,t3,t4,x1[k],x2[k],x3[k],x4[k])) * x3[k]\n",
        "                                                     for k in range(len(y))\n",
        "                                                 ])     \n",
        "\n",
        "    _theta_temp_4 = t4 + (alpha / m) * sum([(y[k] - predict(t0,t1,t2,t3,t4,x1[k],x2[k],x3[k],x4[k])) * x4[k]\n",
        "                                                     for k in range(len(y))\n",
        "                                                 ])       \n",
        "\n",
        "\n",
        "\n",
        "    t0 = _theta_temp_0\n",
        "    t1 = _theta_temp_1\n",
        "    t2 = _theta_temp_2\n",
        "    t3 = _theta_temp_3\n",
        "    t4 = _theta_temp_4\n",
        "\n",
        "    # Calculating cost\n",
        "    cost = computeCost(t0,t1,t2,t3,t4,x1,x2,x3,x4, y)\n",
        "\n",
        "    # Saving it to the list for future use\n",
        "    costs.append(cost)\n",
        "\n",
        "    # Printing cost after each epoch\n",
        "    print(\"Cost: {}\".format(cost))\n",
        "\n",
        "# Plotting Cost vs Iteration Graph\n",
        "plot_cost_vs_iteration(costs)"
      ],
      "execution_count": 15,
      "outputs": [
        {
          "output_type": "stream",
          "name": "stdout",
          "text": [
            "Cost: 2076225450.0474284\n",
            "Cost: 5.846878511920281e+18\n",
            "Cost: 1.9194078812370598e+28\n",
            "Cost: 6.305871332398064e+37\n",
            "Cost: 2.0716886699602626e+47\n",
            "Cost: 6.806187107787913e+56\n",
            "Cost: 2.2360590962098366e+66\n",
            "Cost: 7.346198690340713e+75\n",
            "Cost: 2.4134708822963665e+85\n",
            "Cost: 7.929055481920601e+94\n",
            "Cost: 2.6049587462002347e+104\n",
            "Cost: 8.558156876159759e+113\n",
            "Cost: 2.8116395019228706e+123\n",
            "Cost: 9.237171978927754e+132\n",
            "Cost: 3.034718572915708e+142\n",
            "Cost: 9.970061007642514e+151\n",
            "Cost: 3.275497022467218e+161\n",
            "Cost: 1.0761098388432548e+171\n",
            "Cost: 3.5353791418897415e+180\n",
            "Cost: 1.1614897685857538e+190\n",
            "Cost: 3.8158806407628622e+199\n",
            "Cost: 1.25364385105849e+209\n",
            "Cost: 4.118637487001076e+218\n",
            "Cost: 1.353109556195568e+228\n",
            "Cost: 4.445415448303782e+237\n",
            "Cost: 1.4604669974824797e+247\n",
            "Cost: 4.7981203906360504e+256\n",
            "Cost: 1.5763423153499674e+266\n",
            "Cost: 5.1788093938040894e+275\n",
            "Cost: 1.7014113290106747e+285\n"
          ]
        },
        {
          "output_type": "display_data",
          "data": {
            "image/png": "[encoded data removed]",
            "text/plain": [
              "<Figure size 432x288 with 1 Axes>"
            ]
          },
          "metadata": {
            "needs_background": "light"
          }
        }
      ]
    },
    {
      "cell_type": "code",
      "metadata": {
        "colab": {
          "base_uri": "https://localhost:8080/"
        },
        "id": "HtfSvKYUKSug",
        "outputId": "f23d5ec4-2e60-4d16-9b11-3940fe20418b"
      },
      "source": [
        "predict(425.599332,-40.016660,-0.065413,-0.004741,1341.862121,9.0,3571,1976,0.525)"
      ],
      "execution_count": 16,
      "outputs": [
        {
          "output_type": "execute_result",
          "data": {
            "text/plain": [
              "526.9689665249999"
            ]
          },
          "metadata": {},
          "execution_count": 16
        }
      ]
    },
    {
      "cell_type": "code",
      "metadata": {
        "colab": {
          "base_uri": "https://localhost:8080/"
        },
        "id": "H8DeJCP5cl58",
        "outputId": "33579b0a-ad4d-4caf-e141-180c8c1ab4c5"
      },
      "source": [
        "Petrol_Consumption = 425.599332+(-40.016660)*9.0\t+(-0.065413)*3571+(-0.004741)*1976+1341.862121*0.525\n",
        "Petrol_Consumption"
      ],
      "execution_count": 18,
      "outputs": [
        {
          "output_type": "execute_result",
          "data": {
            "text/plain": [
              "526.9689665249999"
            ]
          },
          "metadata": {},
          "execution_count": 18
        }
      ]
    },
    {
      "cell_type": "code",
      "metadata": {
        "id": "O4kUIlkaOTB5"
      },
      "source": [
        "# Help link\n",
        "# https://bn.mlmodel.fit/linear-regression/gradient-descent-varieties/"
      ],
      "execution_count": null,
      "outputs": []
    }
  ]
}