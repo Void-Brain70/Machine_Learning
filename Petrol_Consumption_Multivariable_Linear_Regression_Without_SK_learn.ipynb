{
  "nbformat": 4,
  "nbformat_minor": 0,
  "metadata": {
    "colab": {
      "name": "Petrol_Consumption_Multivariable_Linear_Regression_Without_SK_learn.ipynb",
      "provenance": [],
      "collapsed_sections": [],
      "authorship_tag": "ABX9TyOQu/2W2Z9kaY10xL/qOTDa",
      "include_colab_link": true
    },
    "kernelspec": {
      "name": "python3",
      "display_name": "Python 3"
    },
    "language_info": {
      "name": "python"
    }
  },
  "cells": [
    {
      "cell_type": "markdown",
      "metadata": {
        "id": "view-in-github",
        "colab_type": "text"
      },
      "source": [
        "<a href=\"https://colab.research.google.com/github/Void-Brain70/Machine_Learning/blob/main/Petrol_Consumption_Multivariable_Linear_Regression_Without_SK_learn.ipynb\" target=\"_parent\"><img src=\"https://colab.research.google.com/assets/colab-badge.svg\" alt=\"Open In Colab\"/></a>"
      ]
    },
    {
      "cell_type": "markdown",
      "metadata": {
        "id": "yQLmlt3Q9sDb"
      },
      "source": [
        "\n",
        "\n",
        "\n",
        "\n",
        "\n",
        "**Petrol_Consumption_Multivariable_Linear_Regression_Without_SK-Learn**"
      ]
    },
    {
      "cell_type": "code",
      "metadata": {
        "colab": {
          "base_uri": "https://localhost:8080/",
          "height": 205
        },
        "id": "gg6Afu639ViD",
        "outputId": "44c2403a-ef06-4d85-de67-1d9ab045f404"
      },
      "source": [
        "# dataset\n",
        "\n",
        "import os\n",
        "import io\n",
        "import pandas as pd\n",
        "import matplotlib.pyplot as plt # for ploting\n",
        "import seaborn as sns # for ploting 3D data\n",
        "%matplotlib inline\n",
        "\n",
        "df = pd.read_csv('/content/petrol_consumption.csv')\n",
        "df.head()"
      ],
      "execution_count": 85,
      "outputs": [
        {
          "output_type": "execute_result",
          "data": {
            "text/html": [
              "<div>\n",
              "<style scoped>\n",
              "    .dataframe tbody tr th:only-of-type {\n",
              "        vertical-align: middle;\n",
              "    }\n",
              "\n",
              "    .dataframe tbody tr th {\n",
              "        vertical-align: top;\n",
              "    }\n",
              "\n",
              "    .dataframe thead th {\n",
              "        text-align: right;\n",
              "    }\n",
              "</style>\n",
              "<table border=\"1\" class=\"dataframe\">\n",
              "  <thead>\n",
              "    <tr style=\"text-align: right;\">\n",
              "      <th></th>\n",
              "      <th>Petrol_tax</th>\n",
              "      <th>Average_income</th>\n",
              "      <th>Paved_Highways</th>\n",
              "      <th>Population_Driver_licence(%)</th>\n",
              "      <th>Petrol_Consumption</th>\n",
              "    </tr>\n",
              "  </thead>\n",
              "  <tbody>\n",
              "    <tr>\n",
              "      <th>0</th>\n",
              "      <td>9.0</td>\n",
              "      <td>3571</td>\n",
              "      <td>1976</td>\n",
              "      <td>0.525</td>\n",
              "      <td>541</td>\n",
              "    </tr>\n",
              "    <tr>\n",
              "      <th>1</th>\n",
              "      <td>9.0</td>\n",
              "      <td>4092</td>\n",
              "      <td>1250</td>\n",
              "      <td>0.572</td>\n",
              "      <td>524</td>\n",
              "    </tr>\n",
              "    <tr>\n",
              "      <th>2</th>\n",
              "      <td>9.0</td>\n",
              "      <td>3865</td>\n",
              "      <td>1586</td>\n",
              "      <td>0.580</td>\n",
              "      <td>561</td>\n",
              "    </tr>\n",
              "    <tr>\n",
              "      <th>3</th>\n",
              "      <td>7.5</td>\n",
              "      <td>4870</td>\n",
              "      <td>2351</td>\n",
              "      <td>0.529</td>\n",
              "      <td>414</td>\n",
              "    </tr>\n",
              "    <tr>\n",
              "      <th>4</th>\n",
              "      <td>8.0</td>\n",
              "      <td>4399</td>\n",
              "      <td>431</td>\n",
              "      <td>0.544</td>\n",
              "      <td>410</td>\n",
              "    </tr>\n",
              "  </tbody>\n",
              "</table>\n",
              "</div>"
            ],
            "text/plain": [
              "   Petrol_tax  Average_income  ...  Population_Driver_licence(%)  Petrol_Consumption\n",
              "0         9.0            3571  ...                         0.525                 541\n",
              "1         9.0            4092  ...                         0.572                 524\n",
              "2         9.0            3865  ...                         0.580                 561\n",
              "3         7.5            4870  ...                         0.529                 414\n",
              "4         8.0            4399  ...                         0.544                 410\n",
              "\n",
              "[5 rows x 5 columns]"
            ]
          },
          "metadata": {},
          "execution_count": 85
        }
      ]
    },
    {
      "cell_type": "code",
      "metadata": {
        "colab": {
          "base_uri": "https://localhost:8080/",
          "height": 205
        },
        "id": "yf4UBs91Axpk",
        "outputId": "873c311d-7681-4ec5-b217-4faf0b94b2cd"
      },
      "source": [
        "df = df.rename(columns={'Petrol_tax': 'x1', 'Average_income': 'x2', 'Paved_Highways': 'x3', 'Population_Driver_licence(%)': 'x4', 'Petrol_Consumption': 'y'})\n",
        "df.head()"
      ],
      "execution_count": 86,
      "outputs": [
        {
          "output_type": "execute_result",
          "data": {
            "text/html": [
              "<div>\n",
              "<style scoped>\n",
              "    .dataframe tbody tr th:only-of-type {\n",
              "        vertical-align: middle;\n",
              "    }\n",
              "\n",
              "    .dataframe tbody tr th {\n",
              "        vertical-align: top;\n",
              "    }\n",
              "\n",
              "    .dataframe thead th {\n",
              "        text-align: right;\n",
              "    }\n",
              "</style>\n",
              "<table border=\"1\" class=\"dataframe\">\n",
              "  <thead>\n",
              "    <tr style=\"text-align: right;\">\n",
              "      <th></th>\n",
              "      <th>x1</th>\n",
              "      <th>x2</th>\n",
              "      <th>x3</th>\n",
              "      <th>x4</th>\n",
              "      <th>y</th>\n",
              "    </tr>\n",
              "  </thead>\n",
              "  <tbody>\n",
              "    <tr>\n",
              "      <th>0</th>\n",
              "      <td>9.0</td>\n",
              "      <td>3571</td>\n",
              "      <td>1976</td>\n",
              "      <td>0.525</td>\n",
              "      <td>541</td>\n",
              "    </tr>\n",
              "    <tr>\n",
              "      <th>1</th>\n",
              "      <td>9.0</td>\n",
              "      <td>4092</td>\n",
              "      <td>1250</td>\n",
              "      <td>0.572</td>\n",
              "      <td>524</td>\n",
              "    </tr>\n",
              "    <tr>\n",
              "      <th>2</th>\n",
              "      <td>9.0</td>\n",
              "      <td>3865</td>\n",
              "      <td>1586</td>\n",
              "      <td>0.580</td>\n",
              "      <td>561</td>\n",
              "    </tr>\n",
              "    <tr>\n",
              "      <th>3</th>\n",
              "      <td>7.5</td>\n",
              "      <td>4870</td>\n",
              "      <td>2351</td>\n",
              "      <td>0.529</td>\n",
              "      <td>414</td>\n",
              "    </tr>\n",
              "    <tr>\n",
              "      <th>4</th>\n",
              "      <td>8.0</td>\n",
              "      <td>4399</td>\n",
              "      <td>431</td>\n",
              "      <td>0.544</td>\n",
              "      <td>410</td>\n",
              "    </tr>\n",
              "  </tbody>\n",
              "</table>\n",
              "</div>"
            ],
            "text/plain": [
              "    x1    x2    x3     x4    y\n",
              "0  9.0  3571  1976  0.525  541\n",
              "1  9.0  4092  1250  0.572  524\n",
              "2  9.0  3865  1586  0.580  561\n",
              "3  7.5  4870  2351  0.529  414\n",
              "4  8.0  4399   431  0.544  410"
            ]
          },
          "metadata": {},
          "execution_count": 86
        }
      ]
    },
    {
      "cell_type": "code",
      "metadata": {
        "id": "T2ZmO_f-Ji87"
      },
      "source": [
        "x1 = df.x1\n",
        "x2 = df.x2 \n",
        "x3 = df.x3 \n",
        "x4 = df.x4  "
      ],
      "execution_count": 87,
      "outputs": []
    },
    {
      "cell_type": "code",
      "metadata": {
        "id": "Wzu0gAWv-fd4"
      },
      "source": [
        "def predict(t0,t1,t2,t3,t4,x1,x2,x3,x4):\n",
        "    return t0 + t1 * x1 + t2 * x2 + t3 * x3 + t4 * x4"
      ],
      "execution_count": 88,
      "outputs": []
    },
    {
      "cell_type": "code",
      "metadata": {
        "id": "Jy-4-o4TBb74"
      },
      "source": [
        "def computeCost(t0,t1,t2,t3,t4,x1,x2,x3,x4,y):\n",
        "    # Getting number of data\n",
        "    m = float(len(y))\n",
        "    loss = []\n",
        "    # Iterating over all of the data\n",
        "    for i in range(len(y)):\n",
        "        # Getting prediction using the parameter [t0, t1, t2]\n",
        "        h = predict(t0,t1,t2,t3,t4,x1[i],x2[i],x3[i],x4[i])\n",
        "        # Adding the losses to the list\n",
        "        loss.append((h - y[i])**2)\n",
        "\n",
        "    return (sum(loss) / (2 * m))"
      ],
      "execution_count": 89,
      "outputs": []
    },
    {
      "cell_type": "code",
      "metadata": {
        "id": "Xzo8t3HNB2WT"
      },
      "source": [
        "def plot_cost_vs_iteration(costs):\n",
        "    plt.plot([i for i in range(len(costs))], costs)\n",
        "    plt.title(\"Cost vs Iteration\")\n",
        "    plt.xlabel(\"Iteration\")\n",
        "    plt.ylabel(\"Cost\")\n",
        "    plt.show()"
      ],
      "execution_count": 90,
      "outputs": []
    },
    {
      "cell_type": "code",
      "metadata": {
        "colab": {
          "base_uri": "https://localhost:8080/",
          "height": 840
        },
        "id": "oksvlrktB952",
        "outputId": "e55d0939-b93d-405e-ab8d-6cb24204619f"
      },
      "source": [
        "# Parameters to be updated\n",
        "t0 = 0.0\n",
        "t1 = 0.0\n",
        "t2 = 0.0\n",
        "t3 = 0.0\n",
        "t4 = 0.0\n",
        "# x1=[]\n",
        "# x2=[]\n",
        "# x3=[]\n",
        "# x4=[]\n",
        "# print(x1)\n",
        "# print(x2)\n",
        "# print(x3)\n",
        "# print(x4)\n",
        "# Data Length\n",
        "m = float(len(y))\n",
        "\n",
        "# Epoch [No. of iterations]\n",
        "epoch = 30\n",
        "\n",
        "# Learning Rate\n",
        "alpha = 0.001\n",
        "\n",
        "# Costs\n",
        "costs = []\n",
        "\n",
        "# Batch Gradient Descent\n",
        "for k in range(epoch):\n",
        "\n",
        "    _theta_temp_0 = t0 + (alpha / m) * sum([(y[k] - predict(t0,t1,t2,t3,t4,x1[k],x2[k],x3[k],x4[k]))\n",
        "                                                     for k in range(len(y))\n",
        "                                                 ])\n",
        "\n",
        "    _theta_temp_1 = t1 + (alpha / m) * sum([(y[k] - predict(t0,t1,t2,t3,t4,x1[k],x2[k],x3[k],x4[k])) * x1[k]\n",
        "                                                     for k in range(len(y))\n",
        "                                                 ])\n",
        "\n",
        "    _theta_temp_2 = t2 + (alpha / m) * sum([(y[k] - predict(t0,t1,t2,t3,t4,x1[k],x2[k],x3[k],x4[k])) * x2[k]\n",
        "                                                     for k in range(len(y))\n",
        "                                                 ])\n",
        "\n",
        "    _theta_temp_3 = t3 + (alpha / m) * sum([(y[k] - predict(t0,t1,t2,t3,t4,x1[k],x2[k],x3[k],x4[k])) * x3[k]\n",
        "                                                     for k in range(len(y))\n",
        "                                                 ])     \n",
        "\n",
        "    _theta_temp_4 = t4 + (alpha / m) * sum([(y[k] - predict(t0,t1,t2,t3,t4,x1[k],x2[k],x3[k],x4[k])) * x4[k]\n",
        "                                                     for k in range(len(y))\n",
        "                                                 ])       \n",
        "\n",
        "\n",
        "\n",
        "    t0 = _theta_temp_0\n",
        "    t1 = _theta_temp_1\n",
        "    t2 = _theta_temp_2\n",
        "    t3 = _theta_temp_3\n",
        "    t4 = _theta_temp_4\n",
        "\n",
        "    # Calculating cost\n",
        "    cost = computeCost(t0,t1,t2,t3,t4,x1,x2,x3,x4, y)\n",
        "\n",
        "    # Saving it to the list for future use\n",
        "    costs.append(cost)\n",
        "\n",
        "    # Printing cost after each epoch\n",
        "    print(\"Cost: {}\".format(cost))\n",
        "\n",
        "# Plotting Cost vs Iteration Graph\n",
        "plot_cost_vs_iteration(costs)"
      ],
      "execution_count": 91,
      "outputs": [
        {
          "output_type": "stream",
          "name": "stdout",
          "text": [
            "Cost: 26916934198552.254\n",
            "Cost: 1.132262734059695e+23\n",
            "Cost: 4.7644703814077e+32\n",
            "Cost: 2.0048535651692753e+42\n",
            "Cost: 8.436274169974911e+51\n",
            "Cost: 3.5499212066746747e+61\n",
            "Cost: 1.493780348966222e+71\n",
            "Cost: 6.285716220298464e+80\n",
            "Cost: 2.6449824721195764e+90\n",
            "Cost: 1.1129888834669024e+100\n",
            "Cost: 4.683374153811403e+109\n",
            "Cost: 1.9707288896062864e+119\n",
            "Cost: 8.292680082303806e+128\n",
            "Cost: 3.4894978862961134e+138\n",
            "Cost: 1.4683546667197905e+148\n",
            "Cost: 6.178726847048807e+157\n",
            "Cost: 2.5999621423702704e+167\n",
            "Cost: 1.0940446647171884e+177\n",
            "Cost: 4.603658295212538e+186\n",
            "Cost: 1.9371850512664206e+196\n",
            "Cost: 8.151530114110766e+205\n",
            "Cost: 3.4301030331519023e+215\n",
            "Cost: 1.4433617558096156e+225\n",
            "Cost: 6.073558543282272e+234\n",
            "Cost: 2.5557081050679276e+244\n",
            "Cost: 1.075422896109941e+254\n",
            "Cost: 4.52529928274713e+263\n",
            "Cost: 1.9042121636527054e+273\n",
            "Cost: 8.012782663960524e+282\n",
            "Cost: 3.371719141668926e+292\n"
          ]
        },
        {
          "output_type": "display_data",
          "data": {
            "image/png": "[encoded data removed]",
            "text/plain": [
              "<Figure size 432x288 with 1 Axes>"
            ]
          },
          "metadata": {
            "needs_background": "light"
          }
        }
      ]
    },
    {
      "cell_type": "code",
      "metadata": {
        "colab": {
          "base_uri": "https://localhost:8080/"
        },
        "id": "HtfSvKYUKSug",
        "outputId": "6282952d-cda3-4990-cc33-431c30bb83f3"
      },
      "source": [
        "predict(0.1,0.2,0.3,0.4,0.5,9.0,3571,1976,0.525)"
      ],
      "execution_count": 92,
      "outputs": [
        {
          "output_type": "execute_result",
          "data": {
            "text/plain": [
              "1863.8625000000002"
            ]
          },
          "metadata": {},
          "execution_count": 92
        }
      ]
    },
    {
      "cell_type": "code",
      "metadata": {
        "id": "O4kUIlkaOTB5"
      },
      "source": [
        "# Help link\n",
        "# https://bn.mlmodel.fit/linear-regression/gradient-descent-varieties/"
      ],
      "execution_count": null,
      "outputs": []
    }
  ]
}