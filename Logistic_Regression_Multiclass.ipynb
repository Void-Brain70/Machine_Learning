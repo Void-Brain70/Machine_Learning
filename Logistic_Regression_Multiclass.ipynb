{
  "nbformat": 4,
  "nbformat_minor": 0,
  "metadata": {
    "colab": {
      "name": "Logistic_Regression_Multiclass.ipynb",
      "provenance": [],
      "collapsed_sections": [],
      "authorship_tag": "ABX9TyMR0J+pr6aRbXlx4p8DihNe",
      "include_colab_link": true
    },
    "kernelspec": {
      "name": "python3",
      "display_name": "Python 3"
    },
    "language_info": {
      "name": "python"
    }
  },
  "cells": [
    {
      "cell_type": "markdown",
      "metadata": {
        "id": "view-in-github",
        "colab_type": "text"
      },
      "source": [
        "<a href=\"https://colab.research.google.com/github/Void-Brain70/Machine_Learning/blob/main/Logistic_Regression_Multiclass.ipynb\" target=\"_parent\"><img src=\"https://colab.research.google.com/assets/colab-badge.svg\" alt=\"Open In Colab\"/></a>"
      ]
    },
    {
      "cell_type": "code",
      "metadata": {
        "id": "zYOrBVHGs4-Z"
      },
      "source": [
        "import matplotlib.pyplot as plt\n",
        "%matplotlib inline\n",
        "\n",
        "from sklearn.datasets import load_digits\n",
        "digits = load_digits()"
      ],
      "execution_count": 2,
      "outputs": []
    },
    {
      "cell_type": "code",
      "metadata": {
        "colab": {
          "base_uri": "https://localhost:8080/"
        },
        "id": "TXz2_omU6wde",
        "outputId": "4894eb84-ee55-4967-f9e2-c2df49dee0ba"
      },
      "source": [
        "digits.images[0]"
      ],
      "execution_count": 3,
      "outputs": [
        {
          "output_type": "execute_result",
          "data": {
            "text/plain": [
              "array([[ 0.,  0.,  5., 13.,  9.,  1.,  0.,  0.],\n",
              "       [ 0.,  0., 13., 15., 10., 15.,  5.,  0.],\n",
              "       [ 0.,  3., 15.,  2.,  0., 11.,  8.,  0.],\n",
              "       [ 0.,  4., 12.,  0.,  0.,  8.,  8.,  0.],\n",
              "       [ 0.,  5.,  8.,  0.,  0.,  9.,  8.,  0.],\n",
              "       [ 0.,  4., 11.,  0.,  1., 12.,  7.,  0.],\n",
              "       [ 0.,  2., 14.,  5., 10., 12.,  0.,  0.],\n",
              "       [ 0.,  0.,  6., 13., 10.,  0.,  0.,  0.]])"
            ]
          },
          "metadata": {
            "tags": []
          },
          "execution_count": 3
        }
      ]
    },
    {
      "cell_type": "code",
      "metadata": {
        "colab": {
          "base_uri": "https://localhost:8080/",
          "height": 309
        },
        "id": "wzzVe1ao60iF",
        "outputId": "531c8def-981d-45f2-ad49-ed008f2cd45f"
      },
      "source": [
        "plt.gray()\n",
        "plt.matshow(digits.images[0])"
      ],
      "execution_count": 5,
      "outputs": [
        {
          "output_type": "execute_result",
          "data": {
            "text/plain": [
              "<matplotlib.image.AxesImage at 0x7f4c58b89290>"
            ]
          },
          "metadata": {
            "tags": []
          },
          "execution_count": 5
        },
        {
          "output_type": "display_data",
          "data": {
            "text/plain": [
              "<Figure size 432x288 with 0 Axes>"
            ]
          },
          "metadata": {
            "tags": []
          }
        },
        {
          "output_type": "display_data",
          "data": {
            "image/png": "[encoded data removed]",
            "text/plain": [
              "<Figure size 288x288 with 1 Axes>"
            ]
          },
          "metadata": {
            "tags": [],
            "needs_background": "light"
          }
        }
      ]
    },
    {
      "cell_type": "code",
      "metadata": {
        "colab": {
          "base_uri": "https://localhost:8080/",
          "height": 1000
        },
        "id": "X_YN3NzK7KGu",
        "outputId": "653d1347-4cd0-4ba2-d9f9-c4660c329668"
      },
      "source": [
        "plt.gray()\n",
        "for i in range(5):\n",
        "  plt.matshow(digits.images[i])"
      ],
      "execution_count": 7,
      "outputs": [
        {
          "output_type": "display_data",
          "data": {
            "text/plain": [
              "<Figure size 432x288 with 0 Axes>"
            ]
          },
          "metadata": {
            "tags": []
          }
        },
        {
          "output_type": "display_data",
          "data": {
            "image/png": "[encoded data removed]",
            "text/plain": [
              "<Figure size 288x288 with 1 Axes>"
            ]
          },
          "metadata": {
            "tags": [],
            "needs_background": "light"
          }
        },
        {
          "output_type": "display_data",
          "data": {
            "image/png": "[encoded data removed]",
            "text/plain": [
              "<Figure size 288x288 with 1 Axes>"
            ]
          },
          "metadata": {
            "tags": [],
            "needs_background": "light"
          }
        },
        {
          "output_type": "display_data",
          "data": {
            "image/png": "[encoded data removed]",
            "text/plain": [
              "<Figure size 288x288 with 1 Axes>"
            ]
          },
          "metadata": {
            "tags": [],
            "needs_background": "light"
          }
        },
        {
          "output_type": "display_data",
          "data": {
            "image/png": "[encoded data removed]",
            "text/plain": [
              "<Figure size 288x288 with 1 Axes>"
            ]
          },
          "metadata": {
            "tags": [],
            "needs_background": "light"
          }
        },
        {
          "output_type": "display_data",
          "data": {
            "image/png": "[encoded data removed]",
            "text/plain": [
              "<Figure size 288x288 with 1 Axes>"
            ]
          },
          "metadata": {
            "tags": [],
            "needs_background": "light"
          }
        }
      ]
    },
    {
      "cell_type": "code",
      "metadata": {
        "colab": {
          "base_uri": "https://localhost:8080/"
        },
        "id": "AmxvHhBL7XBV",
        "outputId": "7ad93e87-8dbf-45e2-827d-2d24e4915fff"
      },
      "source": [
        "digits.target[:5]"
      ],
      "execution_count": 8,
      "outputs": [
        {
          "output_type": "execute_result",
          "data": {
            "text/plain": [
              "array([0, 1, 2, 3, 4])"
            ]
          },
          "metadata": {
            "tags": []
          },
          "execution_count": 8
        }
      ]
    },
    {
      "cell_type": "code",
      "metadata": {
        "id": "f3I0kUfA7fJg"
      },
      "source": [
        "from sklearn.linear_model import LogisticRegression\n",
        "model = LogisticRegression()"
      ],
      "execution_count": 9,
      "outputs": []
    },
    {
      "cell_type": "code",
      "metadata": {
        "id": "c0xQoK5F7l92"
      },
      "source": [
        "from sklearn.model_selection import train_test_split\n",
        "x_train, x_test, y_train, y_test,= train_test_split(digits.data,digits.target,test_size=0.2)"
      ],
      "execution_count": 10,
      "outputs": []
    },
    {
      "cell_type": "code",
      "metadata": {
        "colab": {
          "base_uri": "https://localhost:8080/"
        },
        "id": "BRVtQHfJ75wM",
        "outputId": "f047f6ec-587f-4212-a3d2-6131a6bb526c"
      },
      "source": [
        "len(x_train)"
      ],
      "execution_count": 11,
      "outputs": [
        {
          "output_type": "execute_result",
          "data": {
            "text/plain": [
              "1437"
            ]
          },
          "metadata": {
            "tags": []
          },
          "execution_count": 11
        }
      ]
    },
    {
      "cell_type": "code",
      "metadata": {
        "colab": {
          "base_uri": "https://localhost:8080/"
        },
        "id": "vvllQHHe7-hc",
        "outputId": "6c42ca54-ab6c-4b3e-b743-bfa724f7418b"
      },
      "source": [
        "len(x_test)"
      ],
      "execution_count": 12,
      "outputs": [
        {
          "output_type": "execute_result",
          "data": {
            "text/plain": [
              "360"
            ]
          },
          "metadata": {
            "tags": []
          },
          "execution_count": 12
        }
      ]
    },
    {
      "cell_type": "code",
      "metadata": {
        "colab": {
          "base_uri": "https://localhost:8080/"
        },
        "id": "3yO9YdWH8Bjt",
        "outputId": "a38a9c2f-c597-4f52-ca14-e8e66066e80e"
      },
      "source": [
        "len(digits.data)"
      ],
      "execution_count": 13,
      "outputs": [
        {
          "output_type": "execute_result",
          "data": {
            "text/plain": [
              "1797"
            ]
          },
          "metadata": {
            "tags": []
          },
          "execution_count": 13
        }
      ]
    },
    {
      "cell_type": "code",
      "metadata": {
        "colab": {
          "base_uri": "https://localhost:8080/"
        },
        "id": "qeCzaSIe8Fp9",
        "outputId": "8d43c026-7f91-4bec-b17c-78812a6fcc55"
      },
      "source": [
        "model.fit(x_train,y_train)"
      ],
      "execution_count": 14,
      "outputs": [
        {
          "output_type": "stream",
          "text": [
            "/usr/local/lib/python3.7/dist-packages/sklearn/linear_model/_logistic.py:940: ConvergenceWarning: lbfgs failed to converge (status=1):\n",
            "STOP: TOTAL NO. of ITERATIONS REACHED LIMIT.\n",
            "\n",
            "Increase the number of iterations (max_iter) or scale the data as shown in:\n",
            "    https://scikit-learn.org/stable/modules/preprocessing.html\n",
            "Please also refer to the documentation for alternative solver options:\n",
            "    https://scikit-learn.org/stable/modules/linear_model.html#logistic-regression\n",
            "  extra_warning_msg=_LOGISTIC_SOLVER_CONVERGENCE_MSG)\n"
          ],
          "name": "stderr"
        },
        {
          "output_type": "execute_result",
          "data": {
            "text/plain": [
              "LogisticRegression(C=1.0, class_weight=None, dual=False, fit_intercept=True,\n",
              "                   intercept_scaling=1, l1_ratio=None, max_iter=100,\n",
              "                   multi_class='auto', n_jobs=None, penalty='l2',\n",
              "                   random_state=None, solver='lbfgs', tol=0.0001, verbose=0,\n",
              "                   warm_start=False)"
            ]
          },
          "metadata": {
            "tags": []
          },
          "execution_count": 14
        }
      ]
    },
    {
      "cell_type": "code",
      "metadata": {
        "colab": {
          "base_uri": "https://localhost:8080/"
        },
        "id": "OBDIrumF8MiG",
        "outputId": "ffc6b134-e47f-44ae-cade-ceb491eb45ee"
      },
      "source": [
        "model.predict(x_test)"
      ],
      "execution_count": 15,
      "outputs": [
        {
          "output_type": "execute_result",
          "data": {
            "text/plain": [
              "array([2, 7, 5, 0, 7, 7, 8, 7, 1, 6, 0, 2, 6, 2, 6, 2, 0, 8, 7, 5, 8, 1,\n",
              "       6, 6, 1, 8, 6, 1, 9, 2, 1, 9, 2, 4, 8, 0, 6, 1, 9, 7, 1, 4, 1, 0,\n",
              "       5, 4, 4, 0, 9, 7, 7, 3, 2, 5, 5, 9, 1, 6, 4, 6, 4, 0, 9, 7, 0, 5,\n",
              "       9, 8, 9, 6, 1, 4, 2, 6, 2, 1, 0, 8, 3, 4, 2, 4, 5, 5, 4, 6, 6, 3,\n",
              "       2, 3, 3, 3, 1, 1, 5, 4, 6, 8, 6, 4, 3, 1, 3, 1, 9, 7, 0, 8, 5, 6,\n",
              "       3, 2, 4, 4, 7, 1, 4, 6, 2, 8, 8, 1, 5, 8, 7, 5, 7, 0, 9, 2, 4, 7,\n",
              "       8, 1, 8, 4, 2, 7, 3, 0, 0, 1, 2, 1, 9, 9, 3, 4, 3, 1, 4, 5, 8, 5,\n",
              "       7, 8, 3, 4, 2, 9, 8, 7, 6, 9, 9, 7, 1, 3, 2, 9, 0, 8, 9, 9, 0, 4,\n",
              "       3, 7, 6, 5, 3, 5, 9, 5, 4, 4, 4, 1, 7, 5, 4, 4, 3, 8, 8, 1, 6, 5,\n",
              "       5, 2, 2, 2, 4, 8, 4, 1, 1, 7, 4, 3, 0, 7, 5, 5, 2, 0, 8, 5, 6, 2,\n",
              "       7, 9, 6, 5, 5, 8, 3, 1, 0, 2, 7, 4, 3, 8, 7, 9, 9, 5, 3, 9, 4, 7,\n",
              "       5, 0, 6, 7, 1, 1, 4, 4, 2, 5, 9, 1, 4, 2, 2, 9, 5, 2, 8, 1, 2, 3,\n",
              "       4, 0, 2, 0, 6, 2, 9, 4, 3, 9, 0, 0, 5, 7, 8, 7, 9, 0, 8, 3, 3, 9,\n",
              "       8, 9, 9, 1, 9, 4, 9, 5, 7, 3, 7, 2, 2, 4, 0, 4, 6, 3, 9, 8, 4, 0,\n",
              "       2, 5, 2, 8, 0, 4, 8, 8, 8, 6, 6, 2, 2, 7, 1, 9, 9, 9, 9, 1, 2, 5,\n",
              "       3, 6, 7, 1, 3, 2, 7, 0, 5, 5, 7, 5, 2, 1, 8, 1, 8, 6, 4, 0, 7, 9,\n",
              "       9, 2, 0, 9, 7, 5, 2, 7])"
            ]
          },
          "metadata": {
            "tags": []
          },
          "execution_count": 15
        }
      ]
    },
    {
      "cell_type": "code",
      "metadata": {
        "colab": {
          "base_uri": "https://localhost:8080/"
        },
        "id": "G9qv5NoY8SC9",
        "outputId": "89efa9d9-0399-4ffc-d5a8-0c24e853e4c0"
      },
      "source": [
        "y_test"
      ],
      "execution_count": 16,
      "outputs": [
        {
          "output_type": "execute_result",
          "data": {
            "text/plain": [
              "array([2, 7, 5, 0, 7, 7, 8, 7, 1, 6, 0, 2, 6, 2, 6, 2, 0, 8, 7, 5, 3, 1,\n",
              "       6, 6, 1, 8, 6, 1, 9, 2, 1, 9, 2, 4, 8, 0, 6, 1, 9, 7, 1, 4, 1, 0,\n",
              "       5, 4, 4, 0, 9, 7, 7, 3, 2, 5, 5, 9, 1, 6, 4, 6, 4, 0, 9, 7, 0, 5,\n",
              "       9, 8, 9, 6, 1, 4, 2, 6, 2, 1, 0, 9, 5, 4, 2, 4, 5, 5, 4, 6, 6, 3,\n",
              "       2, 3, 3, 3, 1, 1, 5, 4, 6, 8, 6, 4, 3, 1, 3, 1, 9, 7, 0, 8, 5, 6,\n",
              "       3, 2, 5, 4, 7, 1, 4, 6, 2, 8, 8, 1, 5, 8, 7, 5, 7, 0, 9, 2, 4, 7,\n",
              "       8, 1, 8, 4, 2, 7, 5, 0, 0, 1, 2, 1, 9, 9, 3, 4, 2, 8, 4, 5, 8, 5,\n",
              "       7, 8, 3, 4, 2, 5, 8, 7, 6, 9, 9, 7, 1, 3, 2, 9, 0, 8, 9, 9, 0, 4,\n",
              "       3, 7, 6, 5, 3, 5, 9, 5, 4, 4, 1, 1, 7, 5, 4, 4, 3, 6, 8, 1, 6, 5,\n",
              "       5, 2, 2, 2, 4, 8, 4, 1, 8, 7, 4, 3, 0, 7, 5, 5, 2, 0, 8, 5, 6, 2,\n",
              "       7, 9, 6, 5, 5, 8, 3, 1, 0, 2, 7, 4, 3, 8, 7, 9, 9, 5, 3, 9, 4, 7,\n",
              "       5, 0, 6, 7, 1, 1, 4, 4, 2, 5, 9, 1, 4, 2, 2, 9, 5, 2, 8, 1, 2, 3,\n",
              "       4, 0, 2, 0, 5, 2, 9, 4, 2, 9, 0, 0, 5, 7, 8, 7, 9, 0, 8, 3, 5, 9,\n",
              "       8, 9, 9, 1, 9, 4, 9, 5, 7, 3, 7, 0, 2, 7, 0, 4, 6, 3, 9, 8, 4, 0,\n",
              "       2, 5, 2, 8, 0, 4, 8, 8, 8, 6, 6, 2, 2, 7, 1, 9, 9, 9, 9, 1, 2, 5,\n",
              "       3, 6, 7, 1, 3, 2, 7, 0, 5, 5, 7, 5, 2, 1, 8, 1, 8, 6, 4, 0, 7, 8,\n",
              "       9, 2, 0, 9, 7, 5, 2, 7])"
            ]
          },
          "metadata": {
            "tags": []
          },
          "execution_count": 16
        }
      ]
    },
    {
      "cell_type": "code",
      "metadata": {
        "colab": {
          "base_uri": "https://localhost:8080/"
        },
        "id": "nFwNUvyP8XyA",
        "outputId": "c3d0d01c-f4ea-4ffc-ee4a-c87d4e81762f"
      },
      "source": [
        "model.score(x_test,y_test)"
      ],
      "execution_count": 17,
      "outputs": [
        {
          "output_type": "execute_result",
          "data": {
            "text/plain": [
              "0.9527777777777777"
            ]
          },
          "metadata": {
            "tags": []
          },
          "execution_count": 17
        }
      ]
    },
    {
      "cell_type": "code",
      "metadata": {
        "id": "mOG40cUA8gQW"
      },
      "source": [
        "yp = model.predict(x_test)"
      ],
      "execution_count": 18,
      "outputs": []
    },
    {
      "cell_type": "code",
      "metadata": {
        "colab": {
          "base_uri": "https://localhost:8080/"
        },
        "id": "8L-WS8MU8o8m",
        "outputId": "27e9c4a7-61ea-4911-9da3-edcc0328119c"
      },
      "source": [
        "from sklearn.metrics import confusion_matrix\n",
        "cm = confusion_matrix(y_test,yp)\n",
        "cm"
      ],
      "execution_count": 19,
      "outputs": [
        {
          "output_type": "execute_result",
          "data": {
            "text/plain": [
              "array([[30,  0,  1,  0,  0,  0,  0,  0,  0,  0],\n",
              "       [ 0, 35,  0,  0,  1,  0,  0,  0,  0,  0],\n",
              "       [ 0,  0, 41,  2,  0,  0,  0,  0,  0,  0],\n",
              "       [ 0,  0,  0, 24,  0,  0,  0,  0,  1,  0],\n",
              "       [ 0,  0,  0,  0, 39,  0,  0,  0,  0,  0],\n",
              "       [ 0,  0,  0,  3,  1, 37,  1,  0,  0,  1],\n",
              "       [ 0,  0,  0,  0,  0,  0, 28,  0,  1,  0],\n",
              "       [ 0,  0,  0,  0,  1,  0,  0, 38,  0,  0],\n",
              "       [ 0,  2,  0,  0,  0,  0,  0,  0, 32,  1],\n",
              "       [ 0,  0,  0,  0,  0,  0,  0,  0,  1, 39]])"
            ]
          },
          "metadata": {
            "tags": []
          },
          "execution_count": 19
        }
      ]
    },
    {
      "cell_type": "code",
      "metadata": {
        "colab": {
          "base_uri": "https://localhost:8080/",
          "height": 459
        },
        "id": "db6WCXlM87J0",
        "outputId": "e63f23bf-7c93-449e-9308-0057d0405609"
      },
      "source": [
        "import seaborn as sn\n",
        "plt.figure(figsize=(10,7))\n",
        "sn.heatmap(cm,annot=True)\n",
        "plt.xlabel(\"Predicted\")\n",
        "plt.ylabel(\"Truth\")"
      ],
      "execution_count": 20,
      "outputs": [
        {
          "output_type": "execute_result",
          "data": {
            "text/plain": [
              "Text(69.0, 0.5, 'Truth')"
            ]
          },
          "metadata": {
            "tags": []
          },
          "execution_count": 20
        },
        {
          "output_type": "display_data",
          "data": {
            "image/png": "[encoded data removed]",
            "text/plain": [
              "<Figure size 720x504 with 2 Axes>"
            ]
          },
          "metadata": {
            "tags": [],
            "needs_background": "light"
          }
        }
      ]
    }
  ]
}