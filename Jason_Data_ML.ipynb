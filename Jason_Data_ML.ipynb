{
  "nbformat": 4,
  "nbformat_minor": 0,
  "metadata": {
    "colab": {
      "name": "Jason_Data_ML.ipynb",
      "provenance": [],
      "authorship_tag": "ABX9TyPyOsO+qFFpYlCGscug16y2",
      "include_colab_link": true
    },
    "kernelspec": {
      "name": "python3",
      "display_name": "Python 3"
    },
    "language_info": {
      "name": "python"
    }
  },
  "cells": [
    {
      "cell_type": "markdown",
      "metadata": {
        "id": "view-in-github",
        "colab_type": "text"
      },
      "source": [
        "<a href=\"https://colab.research.google.com/github/Void-Brain70/Machine_Learning/blob/main/Jason_Data_ML.ipynb\" target=\"_parent\"><img src=\"https://colab.research.google.com/assets/colab-badge.svg\" alt=\"Open In Colab\"/></a>"
      ]
    },
    {
      "cell_type": "code",
      "metadata": {
        "colab": {
          "base_uri": "https://localhost:8080/",
          "height": 367
        },
        "id": "qX86eqBjlWQs",
        "outputId": "7db71fd4-ec54-43b3-8680-e4ccd02cc2d1"
      },
      "source": [
        "from oscar.apps.catalogue.models import Product\n",
        "from django.core import serializers\n",
        "import pandas as pd\n",
        "import json\n",
        "import re\n",
        "\n",
        "products = Product.objects.all()\n",
        "data = serializers.serialize('json', products, fields=('title', 'description', 'product_class', 'rating'))\n",
        "datadic = json.loads(data)\n",
        "dataactual = list()\n",
        "for prod in datadic :\n",
        "    dataactual.append({'product_id' : prod['pk'], 'title' : prod['fields']['title'], 'description' : re.sub('<.*?>', '', prod['fields']['description']), 'product_class' : prod['fields']['product_class'], 'rating' : prod['fields']['rating'],})\n",
        "\n",
        "df = pd.DataFrame(dataactual)"
      ],
      "execution_count": 1,
      "outputs": [
        {
          "output_type": "error",
          "ename": "ModuleNotFoundError",
          "evalue": "ignored",
          "traceback": [
            "\u001b[0;31m---------------------------------------------------------------------------\u001b[0m",
            "\u001b[0;31mModuleNotFoundError\u001b[0m                       Traceback (most recent call last)",
            "\u001b[0;32m<ipython-input-1-60292ac3516f>\u001b[0m in \u001b[0;36m<module>\u001b[0;34m()\u001b[0m\n\u001b[0;32m----> 1\u001b[0;31m \u001b[0;32mfrom\u001b[0m \u001b[0moscar\u001b[0m\u001b[0;34m.\u001b[0m\u001b[0mapps\u001b[0m\u001b[0;34m.\u001b[0m\u001b[0mcatalogue\u001b[0m\u001b[0;34m.\u001b[0m\u001b[0mmodels\u001b[0m \u001b[0;32mimport\u001b[0m \u001b[0mProduct\u001b[0m\u001b[0;34m\u001b[0m\u001b[0;34m\u001b[0m\u001b[0m\n\u001b[0m\u001b[1;32m      2\u001b[0m \u001b[0;32mfrom\u001b[0m \u001b[0mdjango\u001b[0m\u001b[0;34m.\u001b[0m\u001b[0mcore\u001b[0m \u001b[0;32mimport\u001b[0m \u001b[0mserializers\u001b[0m\u001b[0;34m\u001b[0m\u001b[0;34m\u001b[0m\u001b[0m\n\u001b[1;32m      3\u001b[0m \u001b[0;32mimport\u001b[0m \u001b[0mpandas\u001b[0m \u001b[0;32mas\u001b[0m \u001b[0mpd\u001b[0m\u001b[0;34m\u001b[0m\u001b[0;34m\u001b[0m\u001b[0m\n\u001b[1;32m      4\u001b[0m \u001b[0;32mimport\u001b[0m \u001b[0mjson\u001b[0m\u001b[0;34m\u001b[0m\u001b[0;34m\u001b[0m\u001b[0m\n\u001b[1;32m      5\u001b[0m \u001b[0;32mimport\u001b[0m \u001b[0mre\u001b[0m\u001b[0;34m\u001b[0m\u001b[0;34m\u001b[0m\u001b[0m\n",
            "\u001b[0;31mModuleNotFoundError\u001b[0m: No module named 'oscar'",
            "",
            "\u001b[0;31m---------------------------------------------------------------------------\u001b[0;32m\nNOTE: If your import is failing due to a missing package, you can\nmanually install dependencies using either !pip or !apt.\n\nTo view examples of installing some common dependencies, click the\n\"Open Examples\" button below.\n\u001b[0;31m---------------------------------------------------------------------------\u001b[0m\n"
          ],
          "errorDetails": {
            "actions": [
              {
                "action": "open_url",
                "actionText": "Open Examples",
                "url": "/notebooks/snippets/importing_libraries.ipynb"
              }
            ]
          }
        }
      ]
    },
    {
      "cell_type": "code",
      "metadata": {
        "id": "VHWQ2NV8ld76"
      },
      "source": [
        "# Importing libraries\n",
        "import numpy as np\n",
        "import pandas as pd\n",
        "import matplotlib.pyplot as plt\n",
        "\n",
        "# %matplotlib inline\n",
        "plt.style.use(\"ggplot\")  #the \"ggplot\" style, which adjusts the style to emulate ggplot\n",
        "\n",
        "import sklearn\n",
        "from sklearn.decomposition import TruncatedSVD #Dimensionality reduction using truncated SVD "
      ],
      "execution_count": null,
      "outputs": []
    },
    {
      "cell_type": "code",
      "metadata": {
        "id": "3eL_qUu0sTYq"
      },
      "source": [
        "popular_products = pd.DataFrame(df.groupby('product_id')['rating'].count())\n",
        "most_popular = popular_products.sort_values('rating', ascending=False)\n",
        "most_popular.head(10)"
      ],
      "execution_count": null,
      "outputs": []
    },
    {
      "cell_type": "code",
      "metadata": {
        "id": "de5VZqmgudMC"
      },
      "source": [
        "ratings_utility_matrix = df1.pivot_table(values='rating', index='UserId', columns='product_id', fill_value=0)\n",
        "ratings_utility_matrix.head()"
      ],
      "execution_count": null,
      "outputs": []
    }
  ]
}