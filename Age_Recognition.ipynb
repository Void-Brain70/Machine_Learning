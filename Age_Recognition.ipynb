{
  "nbformat": 4,
  "nbformat_minor": 0,
  "metadata": {
    "colab": {
      "name": "Age_Recognition.ipynb",
      "provenance": [],
      "collapsed_sections": [],
      "mount_file_id": "1xj5VjthnQ31757UPfaCOEF1q_4v9anxl",
      "authorship_tag": "ABX9TyOLqduYv7xiPK4ZPWcn8jYs",
      "include_colab_link": true
    },
    "kernelspec": {
      "name": "python3",
      "display_name": "Python 3"
    },
    "language_info": {
      "name": "python"
    },
    "accelerator": "GPU"
  },
  "cells": [
    {
      "cell_type": "markdown",
      "metadata": {
        "id": "view-in-github",
        "colab_type": "text"
      },
      "source": [
        "<a href=\"https://colab.research.google.com/github/Void-Brain70/Machine_Learning/blob/main/Age_Recognition.ipynb\" target=\"_parent\"><img src=\"https://colab.research.google.com/assets/colab-badge.svg\" alt=\"Open In Colab\"/></a>"
      ]
    },
    {
      "cell_type": "code",
      "metadata": {
        "colab": {
          "base_uri": "https://localhost:8080/"
        },
        "id": "JcVl6EScyeqg",
        "outputId": "7de8301b-3d31-4f39-c70f-f6a2c78f2490"
      },
      "source": [
        "import numpy as np\n",
        "import pandas as pd\n",
        "import tensorflow\n",
        "from tensorflow.keras.preprocessing.image import ImageDataGenerator \n",
        "from tensorflow.keras.models import Sequential, save_model, load_model\n",
        "from tensorflow.keras.layers import Conv2D, MaxPooling2D \n",
        "from tensorflow.keras.layers import Activation, Dropout, Flatten, Dense,BatchNormalization\n",
        "import numpy as np\n",
        "from tensorflow.keras.callbacks import TensorBoard\n",
        "import time\n",
        "import matplotlib.pyplot as plt\n",
        "import datetime\n",
        "import cv2\n",
        "import os\n",
        "import tensorflow as tf\n",
        "import tensorflow.keras\n",
        "import cv2\n",
        "from sklearn.model_selection import train_test_split\n",
        "import matplotlib.pyplot as plt\n",
        "from sklearn.metrics import confusion_matrix\n",
        "import seaborn as sns\n",
        "import matplotlib.pyplot as plt\n",
        "from sklearn.metrics import classification_report\n",
        "print('tf version', tf.__version__)\n",
        "print('keras version', tf.keras.__version__)\n",
        "print('gpu is ','available' if tf.config.list_physical_devices('GPU') else 'not available')"
      ],
      "execution_count": 1,
      "outputs": [
        {
          "output_type": "stream",
          "text": [
            "tf version 2.5.0\n",
            "keras version 2.5.0\n",
            "gpu is  available\n"
          ],
          "name": "stdout"
        }
      ]
    },
    {
      "cell_type": "code",
      "metadata": {
        "id": "D8q6o_HIzKmD",
        "colab": {
          "base_uri": "https://localhost:8080/",
          "height": 229
        },
        "outputId": "0c8a39d2-f5ef-44d1-aa55-785e6a745ad9"
      },
      "source": [
        "subdir = ['/content/drive/MyDrive/Dataset/25-30','/content/drive/MyDrive/Dataset/42-48','/content/drive/MyDrive/Dataset/60-98','/content/drive/MyDrive/Dataset/6-20']\n",
        "path = '/content/drive/MyDrive/Dataset'\n",
        "\n",
        "target_name = {'25-30': 0, '42-48': 1, '60-98': 2, '6-20': 3}\n",
        "X, y = [], []\n",
        "for age in subdir:\n",
        "    for img_name in os.listdir(path+age):\n",
        "        img = cv2.imread(path+age+'/'+img_name)\n",
        "        scalled_raw_img = cv2.resize(img, (80, 80))/255.0\n",
        "        X.append(scalled_raw_img)\n",
        "        y.append(target_name[age])"
      ],
      "execution_count": 3,
      "outputs": [
        {
          "output_type": "error",
          "ename": "FileNotFoundError",
          "evalue": "ignored",
          "traceback": [
            "\u001b[0;31m---------------------------------------------------------------------------\u001b[0m",
            "\u001b[0;31mFileNotFoundError\u001b[0m                         Traceback (most recent call last)",
            "\u001b[0;32m<ipython-input-3-f6d056430a0e>\u001b[0m in \u001b[0;36m<module>\u001b[0;34m()\u001b[0m\n\u001b[1;32m      5\u001b[0m \u001b[0mX\u001b[0m\u001b[0;34m,\u001b[0m \u001b[0my\u001b[0m \u001b[0;34m=\u001b[0m \u001b[0;34m[\u001b[0m\u001b[0;34m]\u001b[0m\u001b[0;34m,\u001b[0m \u001b[0;34m[\u001b[0m\u001b[0;34m]\u001b[0m\u001b[0;34m\u001b[0m\u001b[0;34m\u001b[0m\u001b[0m\n\u001b[1;32m      6\u001b[0m \u001b[0;32mfor\u001b[0m \u001b[0mage\u001b[0m \u001b[0;32min\u001b[0m \u001b[0msubdir\u001b[0m\u001b[0;34m:\u001b[0m\u001b[0;34m\u001b[0m\u001b[0;34m\u001b[0m\u001b[0m\n\u001b[0;32m----> 7\u001b[0;31m     \u001b[0;32mfor\u001b[0m \u001b[0mimg_name\u001b[0m \u001b[0;32min\u001b[0m \u001b[0mos\u001b[0m\u001b[0;34m.\u001b[0m\u001b[0mlistdir\u001b[0m\u001b[0;34m(\u001b[0m\u001b[0mpath\u001b[0m\u001b[0;34m+\u001b[0m\u001b[0mage\u001b[0m\u001b[0;34m)\u001b[0m\u001b[0;34m:\u001b[0m\u001b[0;34m\u001b[0m\u001b[0;34m\u001b[0m\u001b[0m\n\u001b[0m\u001b[1;32m      8\u001b[0m         \u001b[0mimg\u001b[0m \u001b[0;34m=\u001b[0m \u001b[0mcv2\u001b[0m\u001b[0;34m.\u001b[0m\u001b[0mimread\u001b[0m\u001b[0;34m(\u001b[0m\u001b[0mpath\u001b[0m\u001b[0;34m+\u001b[0m\u001b[0mage\u001b[0m\u001b[0;34m+\u001b[0m\u001b[0;34m'/'\u001b[0m\u001b[0;34m+\u001b[0m\u001b[0mimg_name\u001b[0m\u001b[0;34m)\u001b[0m\u001b[0;34m\u001b[0m\u001b[0;34m\u001b[0m\u001b[0m\n\u001b[1;32m      9\u001b[0m         \u001b[0mscalled_raw_img\u001b[0m \u001b[0;34m=\u001b[0m \u001b[0mcv2\u001b[0m\u001b[0;34m.\u001b[0m\u001b[0mresize\u001b[0m\u001b[0;34m(\u001b[0m\u001b[0mimg\u001b[0m\u001b[0;34m,\u001b[0m \u001b[0;34m(\u001b[0m\u001b[0;36m80\u001b[0m\u001b[0;34m,\u001b[0m \u001b[0;36m80\u001b[0m\u001b[0;34m)\u001b[0m\u001b[0;34m)\u001b[0m\u001b[0;34m/\u001b[0m\u001b[0;36m255.0\u001b[0m\u001b[0;34m\u001b[0m\u001b[0;34m\u001b[0m\u001b[0m\n",
            "\u001b[0;31mFileNotFoundError\u001b[0m: [Errno 2] No such file or directory: '/content/drive/MyDrive/Dataset/content/drive/MyDrive/Dataset/25-30'"
          ]
        }
      ]
    },
    {
      "cell_type": "code",
      "metadata": {
        "id": "SbpMLY1YiKL8"
      },
      "source": [
        "len(X), len(y)"
      ],
      "execution_count": null,
      "outputs": []
    },
    {
      "cell_type": "code",
      "metadata": {
        "id": "1FNsYJllzS7F"
      },
      "source": [
        "X, y = np.array(X), np.array(y)\n",
        "X.shape, y.shape"
      ],
      "execution_count": null,
      "outputs": []
    },
    {
      "cell_type": "code",
      "metadata": {
        "id": "MAo1JqRjzVG9"
      },
      "source": [
        "y = tf.keras.utils.to_categorical(y, num_classes=4)\n",
        "y.shape"
      ],
      "execution_count": null,
      "outputs": []
    },
    {
      "cell_type": "code",
      "metadata": {
        "id": "MHml6BoazWll"
      },
      "source": [
        "X_train, X_test, y_train, y_test = train_test_split(X, y, test_size=0.2, random_state=42)\n",
        "X_train.shape, X_test.shape, y_train.shape, y_test.shape"
      ],
      "execution_count": null,
      "outputs": []
    },
    {
      "cell_type": "code",
      "metadata": {
        "id": "iaJu7NGxzZeN"
      },
      "source": [
        "base_model = tf.keras.applications.Xception(\n",
        "    include_top=False,\n",
        "    weights=\"imagenet\",\n",
        "    input_shape=(80, 80, 3),\n",
        "    pooling='avg',\n",
        "    classes=4,\n",
        "    classifier_activation=\"softmax\",\n",
        ")"
      ],
      "execution_count": null,
      "outputs": []
    },
    {
      "cell_type": "code",
      "metadata": {
        "id": "Vub7_fUlzbrX"
      },
      "source": [
        "num_of_class = 4\n",
        "epoch = 20\n",
        "\n",
        "model = Sequential()\n",
        "model.add(base_model)\n",
        "model.add(Dropout(0.5))\n",
        "model.add(Dense(num_of_class, activation='softmax'))\n",
        "\n",
        "\n",
        "model.compile(loss ='categorical_crossentropy',\n",
        "                     optimizer ='adam', \n",
        "                   metrics =['accuracy'])"
      ],
      "execution_count": null,
      "outputs": []
    },
    {
      "cell_type": "code",
      "metadata": {
        "id": "y80T-BZ9zesO"
      },
      "source": [
        "H = model.fit(\n",
        "    x=X_train,\n",
        "    y=y_train,\n",
        "    batch_size=256,\n",
        "    epochs=epoch,\n",
        "    validation_data=(X_test, y_test)) #Model Training"
      ],
      "execution_count": null,
      "outputs": []
    },
    {
      "cell_type": "code",
      "metadata": {
        "id": "jhYemwhrzg2v"
      },
      "source": [
        "# Plot training & validation accuracy values\n",
        "fig, ax = plt.subplots(1,1)\n",
        "plt.plot(H.history[\"accuracy\"])\n",
        "plt.plot(H.history['val_accuracy'])\n",
        "plt.title('Model accuracy')\n",
        "plt.ylabel('Accuracy')\n",
        "plt.xlabel('Epoch')\n",
        "plt.legend(['Train', 'Test'], loc='upper left')\n",
        "plt.show()"
      ],
      "execution_count": null,
      "outputs": []
    },
    {
      "cell_type": "code",
      "metadata": {
        "id": "_i-W7_6tzlyj"
      },
      "source": [
        "# Plot training & validation loss values\n",
        "fig, ax = plt.subplots(1,1)\n",
        "plt.plot(H.history['loss'])\n",
        "plt.plot(H.history['val_loss'])\n",
        "plt.title('Model loss')\n",
        "plt.ylabel('Loss')\n",
        "plt.xlabel('Epoch')\n",
        "plt.legend(['Train', 'Test'], loc='upper left')\n",
        "plt.show()"
      ],
      "execution_count": null,
      "outputs": []
    },
    {
      "cell_type": "code",
      "metadata": {
        "id": "OhawCdXfzmbZ"
      },
      "source": [
        "y_pred = np.argmax(model.predict(X_test,batch_size=1), axis=1) \n",
        "\n",
        "print('Classification Report')\n",
        "y_classes = [np.argmax(y, axis=None, out=None) for y in y_test]\n",
        "report = classification_report(y_classes, y_pred, target_names=target_name.keys())\n",
        "print(report)\n",
        "\n",
        "plt.figure(figsize=(10,10))\n",
        "cm = confusion_matrix(y_classes, y_pred)\n",
        "_=sns.heatmap(cm.T, annot=True, fmt='d', cbar=True, square=True, xticklabels=target_name.keys(),\n",
        "             yticklabels=target_name.keys())\n",
        "plt.xlabel('Truth')\n",
        "plt.ylabel('Predicted')"
      ],
      "execution_count": null,
      "outputs": []
    }
  ]
}