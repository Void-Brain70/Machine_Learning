{
  "nbformat": 4,
  "nbformat_minor": 0,
  "metadata": {
    "colab": {
      "name": "Product_Recommendation_System_2.ipynb",
      "provenance": [],
      "authorship_tag": "ABX9TyMhNFfupseDUdGjG3374egG",
      "include_colab_link": true
    },
    "kernelspec": {
      "name": "python3",
      "display_name": "Python 3"
    },
    "language_info": {
      "name": "python"
    }
  },
  "cells": [
    {
      "cell_type": "markdown",
      "metadata": {
        "id": "view-in-github",
        "colab_type": "text"
      },
      "source": [
        "<a href=\"https://colab.research.google.com/github/Void-Brain70/Machine_Learning/blob/main/Product_Recommendation_System_2.ipynb\" target=\"_parent\"><img src=\"https://colab.research.google.com/assets/colab-badge.svg\" alt=\"Open In Colab\"/></a>"
      ]
    },
    {
      "cell_type": "code",
      "metadata": {
        "id": "ntfTVrd3in8j"
      },
      "source": [
        "# Importing libraries\n",
        "import numpy as np\n",
        "import pandas as pd\n",
        "import matplotlib.pyplot as plt\n",
        "\n",
        "# %matplotlib inline\n",
        "plt.style.use(\"ggplot\")\n",
        "\n",
        "import sklearn\n",
        "from sklearn.decomposition import TruncatedSVD\n",
        "from sklearn.feature_extraction.text import TfidfVectorizer, CountVectorizer\n",
        "from sklearn.neighbors import NearestNeighbors\n",
        "from sklearn.cluster import KMeans\n",
        "from sklearn.metrics import adjusted_rand_score"
      ],
      "execution_count": 6,
      "outputs": []
    },
    {
      "cell_type": "markdown",
      "metadata": {
        "id": "KZb16leDme77"
      },
      "source": [
        "**Item to item based recommendation system based on product description**"
      ]
    },
    {
      "cell_type": "code",
      "metadata": {
        "colab": {
          "base_uri": "https://localhost:8080/"
        },
        "id": "LgvfXDREmbvr",
        "outputId": "3b362650-4a6d-4aed-cfbc-96cc83b8c809"
      },
      "source": [
        "product_descriptions = pd.read_csv('/content/product_descriptions.csv')\n",
        "product_descriptions.shape"
      ],
      "execution_count": 7,
      "outputs": [
        {
          "output_type": "execute_result",
          "data": {
            "text/plain": [
              "(124428, 2)"
            ]
          },
          "metadata": {},
          "execution_count": 7
        }
      ]
    },
    {
      "cell_type": "code",
      "metadata": {
        "colab": {
          "base_uri": "https://localhost:8080/",
          "height": 204
        },
        "id": "i1Omwcepmhv9",
        "outputId": "5c8e1942-0de7-4062-f015-a19d4874aa97"
      },
      "source": [
        "# Checking Missing values\n",
        "\n",
        "product_descriptions = product_descriptions.dropna()\n",
        "product_descriptions.shape\n",
        "product_descriptions.head()"
      ],
      "execution_count": 8,
      "outputs": [
        {
          "output_type": "execute_result",
          "data": {
            "text/html": [
              "<div>\n",
              "<style scoped>\n",
              "    .dataframe tbody tr th:only-of-type {\n",
              "        vertical-align: middle;\n",
              "    }\n",
              "\n",
              "    .dataframe tbody tr th {\n",
              "        vertical-align: top;\n",
              "    }\n",
              "\n",
              "    .dataframe thead th {\n",
              "        text-align: right;\n",
              "    }\n",
              "</style>\n",
              "<table border=\"1\" class=\"dataframe\">\n",
              "  <thead>\n",
              "    <tr style=\"text-align: right;\">\n",
              "      <th></th>\n",
              "      <th>product_uid</th>\n",
              "      <th>product_description</th>\n",
              "    </tr>\n",
              "  </thead>\n",
              "  <tbody>\n",
              "    <tr>\n",
              "      <th>0</th>\n",
              "      <td>100001</td>\n",
              "      <td>Not only do angles make joints stronger, they ...</td>\n",
              "    </tr>\n",
              "    <tr>\n",
              "      <th>1</th>\n",
              "      <td>100002</td>\n",
              "      <td>BEHR Premium Textured DECKOVER is an innovativ...</td>\n",
              "    </tr>\n",
              "    <tr>\n",
              "      <th>2</th>\n",
              "      <td>100003</td>\n",
              "      <td>Classic architecture meets contemporary design...</td>\n",
              "    </tr>\n",
              "    <tr>\n",
              "      <th>3</th>\n",
              "      <td>100004</td>\n",
              "      <td>The Grape Solar 265-Watt Polycrystalline PV So...</td>\n",
              "    </tr>\n",
              "    <tr>\n",
              "      <th>4</th>\n",
              "      <td>100005</td>\n",
              "      <td>Update your bathroom with the Delta Vero Singl...</td>\n",
              "    </tr>\n",
              "  </tbody>\n",
              "</table>\n",
              "</div>"
            ],
            "text/plain": [
              "   product_uid                                product_description\n",
              "0       100001  Not only do angles make joints stronger, they ...\n",
              "1       100002  BEHR Premium Textured DECKOVER is an innovativ...\n",
              "2       100003  Classic architecture meets contemporary design...\n",
              "3       100004  The Grape Solar 265-Watt Polycrystalline PV So...\n",
              "4       100005  Update your bathroom with the Delta Vero Singl..."
            ]
          },
          "metadata": {},
          "execution_count": 8
        }
      ]
    },
    {
      "cell_type": "code",
      "metadata": {
        "colab": {
          "base_uri": "https://localhost:8080/"
        },
        "id": "jO7gjBnTmkMl",
        "outputId": "a4457d42-50b5-4fb0-9a8d-a4fa5d8f940d"
      },
      "source": [
        "product_descriptions1 = product_descriptions.head(500)\n",
        "# product_descriptions1.iloc[:,1]\n",
        "\n",
        "product_descriptions1[\"product_description\"].head(10)"
      ],
      "execution_count": 9,
      "outputs": [
        {
          "output_type": "execute_result",
          "data": {
            "text/plain": [
              "0    Not only do angles make joints stronger, they ...\n",
              "1    BEHR Premium Textured DECKOVER is an innovativ...\n",
              "2    Classic architecture meets contemporary design...\n",
              "3    The Grape Solar 265-Watt Polycrystalline PV So...\n",
              "4    Update your bathroom with the Delta Vero Singl...\n",
              "5    Achieving delicious results is almost effortle...\n",
              "6    The Quantum Adjustable 2-Light LED Black Emerg...\n",
              "7    The Teks #10 x 1-1/2 in. Zinc-Plated Steel Was...\n",
              "8    Get the House of Fara 3/4 in. x 3 in. x 8 ft. ...\n",
              "9    Valley View Industries Metal Stakes (4-Pack) a...\n",
              "Name: product_description, dtype: object"
            ]
          },
          "metadata": {},
          "execution_count": 9
        }
      ]
    },
    {
      "cell_type": "markdown",
      "metadata": {
        "id": "NfbGVVYsm2-3"
      },
      "source": [
        "Feature extraction from product descriptions\n",
        "Converting the text in product description into numerical data for analysis"
      ]
    },
    {
      "cell_type": "code",
      "metadata": {
        "colab": {
          "base_uri": "https://localhost:8080/"
        },
        "id": "CUxd4HEQm0Rm",
        "outputId": "19c49fbe-99b1-4b6b-ddc3-812d6206cde7"
      },
      "source": [
        "vectorizer = TfidfVectorizer(stop_words='english')\n",
        "X1 = vectorizer.fit_transform(product_descriptions1[\"product_description\"])\n",
        "X1"
      ],
      "execution_count": 10,
      "outputs": [
        {
          "output_type": "execute_result",
          "data": {
            "text/plain": [
              "<500x8932 sparse matrix of type '<class 'numpy.float64'>'\n",
              "\twith 34817 stored elements in Compressed Sparse Row format>"
            ]
          },
          "metadata": {},
          "execution_count": 10
        }
      ]
    },
    {
      "cell_type": "markdown",
      "metadata": {
        "id": "gfyorMgdm6xH"
      },
      "source": [
        "**Visualizing product clusters in subset of data**"
      ]
    },
    {
      "cell_type": "code",
      "metadata": {
        "colab": {
          "base_uri": "https://localhost:8080/",
          "height": 265
        },
        "id": "Mjx9o-mem8mP",
        "outputId": "613cbb01-9fee-4354-dbd8-5ad7fca8792d"
      },
      "source": [
        "# Fitting K-Means to the dataset\n",
        "\n",
        "X=X1\n",
        "\n",
        "kmeans = KMeans(n_clusters = 10, init = 'k-means++')\n",
        "y_kmeans = kmeans.fit_predict(X)\n",
        "plt.plot(y_kmeans, \".\")\n",
        "plt.show()"
      ],
      "execution_count": 11,
      "outputs": [
        {
          "output_type": "display_data",
          "data": {
            "image/png": "[encoded data removed]",
            "text/plain": [
              "<Figure size 432x288 with 1 Axes>"
            ]
          },
          "metadata": {}
        }
      ]
    },
    {
      "cell_type": "code",
      "metadata": {
        "id": "lDaNaRh5m-gw"
      },
      "source": [
        "def print_cluster(i):\n",
        "    print(\"Cluster %d:\" % i),\n",
        "    for ind in order_centroids[i, :10]:\n",
        "        print(' %s' % terms[ind]),\n",
        "    print"
      ],
      "execution_count": 13,
      "outputs": []
    },
    {
      "cell_type": "markdown",
      "metadata": {
        "id": "_U_6QUcunB9f"
      },
      "source": [
        "**Top words in each cluster based on product description**"
      ]
    },
    {
      "cell_type": "markdown",
      "metadata": {
        "id": "M9khiwkY1BPU"
      },
      "source": [
        "**Recommendation of product based on the current product selected by user.**"
      ]
    },
    {
      "cell_type": "markdown",
      "metadata": {
        "id": "kTfQEOjr1Ee1"
      },
      "source": [
        "**To recommend related product based on, Frequently bought together.**"
      ]
    },
    {
      "cell_type": "code",
      "metadata": {
        "colab": {
          "base_uri": "https://localhost:8080/"
        },
        "id": "llL3nuo_nAOh",
        "outputId": "11f6302a-1639-4cd0-f470-f07582622c20"
      },
      "source": [
        "# # Optimal clusters is \n",
        "\n",
        "true_k = 10\n",
        "\n",
        "model = KMeans(n_clusters=true_k, init='k-means++', max_iter=100, n_init=1)\n",
        "model.fit(X1)\n",
        "\n",
        "print(\"Top terms per cluster:\")\n",
        "order_centroids = model.cluster_centers_.argsort()[:, ::-1]\n",
        "terms = vectorizer.get_feature_names()\n",
        "for i in range(true_k):\n",
        "    print_cluster(i)"
      ],
      "execution_count": 14,
      "outputs": [
        {
          "output_type": "stream",
          "text": [
            "Top terms per cluster:\n",
            "Cluster 0:\n",
            " ft\n",
            " window\n",
            " easy\n",
            " vary\n",
            " size\n",
            " screen\n",
            " rug\n",
            " aluminum\n",
            " product\n",
            " outdoor\n",
            "Cluster 1:\n",
            " flush\n",
            " toilet\n",
            " design\n",
            " bowl\n",
            " piece\n",
            " features\n",
            " water\n",
            " clean\n",
            " offers\n",
            " efficiency\n",
            "Cluster 2:\n",
            " commercial\n",
            " cycle\n",
            " duty\n",
            " steel\n",
            " lbs\n",
            " high\n",
            " dry\n",
            " easy\n",
            " heavy\n",
            " use\n",
            "Cluster 3:\n",
            " air\n",
            " power\n",
            " cooling\n",
            " fan\n",
            " ft\n",
            " unit\n",
            " control\n",
            " light\n",
            " plan\n",
            " protection\n",
            "Cluster 4:\n",
            " tool\n",
            " metal\n",
            " drill\n",
            " saw\n",
            " work\n",
            " storage\n",
            " wall\n",
            " easy\n",
            " gauge\n",
            " power\n",
            "Cluster 5:\n",
            " door\n",
            " cooking\n",
            " oven\n",
            " easy\n",
            " installation\n",
            " drawer\n",
            " design\n",
            " opening\n",
            " provides\n",
            " helps\n",
            "Cluster 6:\n",
            " outdoor\n",
            " patio\n",
            " fabric\n",
            " color\n",
            " frame\n",
            " wood\n",
            " dining\n",
            " cushions\n",
            " wicker\n",
            " steel\n",
            "Cluster 7:\n",
            " tape\n",
            " insulation\n",
            " water\n",
            " heater\n",
            " easy\n",
            " fiberglass\n",
            " use\n",
            " vinyl\n",
            " gas\n",
            " brush\n",
            "Cluster 8:\n",
            " paint\n",
            " trim\n",
            " roller\n",
            " wall\n",
            " set\n",
            " azek\n",
            " ft\n",
            " screws\n",
            " screw\n",
            " project\n",
            "Cluster 9:\n",
            " water\n",
            " roof\n",
            " ice\n",
            " seal\n",
            " metal\n",
            " roofing\n",
            " use\n",
            " deck\n",
            " designed\n",
            " snow\n"
          ],
          "name": "stdout"
        }
      ]
    },
    {
      "cell_type": "markdown",
      "metadata": {
        "id": "W4COUdPwnGZp"
      },
      "source": [
        "**Predicting clusters based on key search words**"
      ]
    },
    {
      "cell_type": "code",
      "metadata": {
        "id": "wyjMr6eenEcx"
      },
      "source": [
        "def show_recommendations(product):\n",
        "    #print(\"Cluster ID:\")\n",
        "    Y = vectorizer.transform([product])\n",
        "    prediction = model.predict(Y)\n",
        "    #print(prediction)\n",
        "    print_cluster(prediction[0])"
      ],
      "execution_count": 16,
      "outputs": []
    },
    {
      "cell_type": "markdown",
      "metadata": {
        "id": "1Jl4sWpvnKIa"
      },
      "source": [
        "**Keyword : cutting tool**"
      ]
    },
    {
      "cell_type": "code",
      "metadata": {
        "colab": {
          "base_uri": "https://localhost:8080/"
        },
        "id": "Wh4IU-1lnLsr",
        "outputId": "cc413096-9c17-47ad-9276-34d2a708fa63"
      },
      "source": [
        "show_recommendations(\"cutting tool\")"
      ],
      "execution_count": 17,
      "outputs": [
        {
          "output_type": "stream",
          "text": [
            "Cluster 4:\n",
            " tool\n",
            " metal\n",
            " drill\n",
            " saw\n",
            " work\n",
            " storage\n",
            " wall\n",
            " easy\n",
            " gauge\n",
            " power\n"
          ],
          "name": "stdout"
        }
      ]
    },
    {
      "cell_type": "markdown",
      "metadata": {
        "id": "qRje_TWvnOdk"
      },
      "source": [
        "**Keyword : spray paint**"
      ]
    },
    {
      "cell_type": "code",
      "metadata": {
        "colab": {
          "base_uri": "https://localhost:8080/"
        },
        "id": "Xf9Op2NnnPh6",
        "outputId": "e5df0bae-c2a9-4ca5-a7b9-8cdb6c7f3081"
      },
      "source": [
        "show_recommendations(\"spray paint\")"
      ],
      "execution_count": 18,
      "outputs": [
        {
          "output_type": "stream",
          "text": [
            "Cluster 8:\n",
            " paint\n",
            " trim\n",
            " roller\n",
            " wall\n",
            " set\n",
            " azek\n",
            " ft\n",
            " screws\n",
            " screw\n",
            " project\n"
          ],
          "name": "stdout"
        }
      ]
    },
    {
      "cell_type": "code",
      "metadata": {
        "colab": {
          "base_uri": "https://localhost:8080/"
        },
        "id": "EHd9bLaHnTnD",
        "outputId": "9d2c7c68-4a0a-490c-9412-4cd5fab814dc"
      },
      "source": [
        "show_recommendations(\"water\")"
      ],
      "execution_count": 19,
      "outputs": [
        {
          "output_type": "stream",
          "text": [
            "Cluster 9:\n",
            " water\n",
            " roof\n",
            " ice\n",
            " seal\n",
            " metal\n",
            " roofing\n",
            " use\n",
            " deck\n",
            " designed\n",
            " snow\n"
          ],
          "name": "stdout"
        }
      ]
    }
  ]
}