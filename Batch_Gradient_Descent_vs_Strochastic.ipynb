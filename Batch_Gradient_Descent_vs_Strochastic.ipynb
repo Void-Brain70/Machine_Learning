{
  "nbformat": 4,
  "nbformat_minor": 0,
  "metadata": {
    "colab": {
      "name": "Batch_Gradient_Descent_vs_Strochastic.ipynb",
      "provenance": [],
      "collapsed_sections": [],
      "authorship_tag": "ABX9TyN4mU5Diu5BLlI67t5Dxazu",
      "include_colab_link": true
    },
    "kernelspec": {
      "name": "python3",
      "display_name": "Python 3"
    },
    "language_info": {
      "name": "python"
    }
  },
  "cells": [
    {
      "cell_type": "markdown",
      "metadata": {
        "id": "view-in-github",
        "colab_type": "text"
      },
      "source": [
        "<a href=\"https://colab.research.google.com/github/Void-Brain70/Machine_Learning/blob/main/Batch_Gradient_Descent_vs_Strochastic.ipynb\" target=\"_parent\"><img src=\"https://colab.research.google.com/assets/colab-badge.svg\" alt=\"Open In Colab\"/></a>"
      ]
    },
    {
      "cell_type": "code",
      "metadata": {
        "id": "de5_-W561sTg"
      },
      "source": [
        "import pandas as pd\n",
        "import numpy as np\n",
        "import matplotlib.pyplot as plt\n",
        "%matplotlib inline"
      ],
      "execution_count": null,
      "outputs": []
    },
    {
      "cell_type": "code",
      "metadata": {
        "colab": {
          "base_uri": "https://localhost:8080/",
          "height": 203
        },
        "id": "JN30z1NZ2ILW",
        "outputId": "52adeeb2-46d5-4bcb-b400-1c51fd7de979"
      },
      "source": [
        "df = pd.read_csv(\"/content/homeprices_banglore.csv\")\n",
        "df.sample(5)"
      ],
      "execution_count": null,
      "outputs": [
        {
          "output_type": "execute_result",
          "data": {
            "text/html": [
              "<div>\n",
              "<style scoped>\n",
              "    .dataframe tbody tr th:only-of-type {\n",
              "        vertical-align: middle;\n",
              "    }\n",
              "\n",
              "    .dataframe tbody tr th {\n",
              "        vertical-align: top;\n",
              "    }\n",
              "\n",
              "    .dataframe thead th {\n",
              "        text-align: right;\n",
              "    }\n",
              "</style>\n",
              "<table border=\"1\" class=\"dataframe\">\n",
              "  <thead>\n",
              "    <tr style=\"text-align: right;\">\n",
              "      <th></th>\n",
              "      <th>area</th>\n",
              "      <th>bedrooms</th>\n",
              "      <th>price</th>\n",
              "    </tr>\n",
              "  </thead>\n",
              "  <tbody>\n",
              "    <tr>\n",
              "      <th>17</th>\n",
              "      <td>1540</td>\n",
              "      <td>3</td>\n",
              "      <td>60.00</td>\n",
              "    </tr>\n",
              "    <tr>\n",
              "      <th>7</th>\n",
              "      <td>3300</td>\n",
              "      <td>4</td>\n",
              "      <td>155.00</td>\n",
              "    </tr>\n",
              "    <tr>\n",
              "      <th>3</th>\n",
              "      <td>1521</td>\n",
              "      <td>3</td>\n",
              "      <td>75.00</td>\n",
              "    </tr>\n",
              "    <tr>\n",
              "      <th>13</th>\n",
              "      <td>1100</td>\n",
              "      <td>2</td>\n",
              "      <td>40.00</td>\n",
              "    </tr>\n",
              "    <tr>\n",
              "      <th>0</th>\n",
              "      <td>1056</td>\n",
              "      <td>2</td>\n",
              "      <td>39.07</td>\n",
              "    </tr>\n",
              "  </tbody>\n",
              "</table>\n",
              "</div>"
            ],
            "text/plain": [
              "    area  bedrooms   price\n",
              "17  1540         3   60.00\n",
              "7   3300         4  155.00\n",
              "3   1521         3   75.00\n",
              "13  1100         2   40.00\n",
              "0   1056         2   39.07"
            ]
          },
          "metadata": {
            "tags": []
          },
          "execution_count": 2
        }
      ]
    },
    {
      "cell_type": "code",
      "metadata": {
        "colab": {
          "base_uri": "https://localhost:8080/"
        },
        "id": "yN8cYKye2Lbl",
        "outputId": "017dc298-43dc-4648-c348-e26f28498f1b"
      },
      "source": [
        "from sklearn import preprocessing\n",
        "x = preprocessing.MinMaxScaler()\n",
        "y = preprocessing.MinMaxScaler()\n",
        "\n",
        "scaled_x = x.fit_transform(df.drop('price',axis='columns'))\n",
        "scaled_x"
      ],
      "execution_count": null,
      "outputs": [
        {
          "output_type": "execute_result",
          "data": {
            "text/plain": [
              "array([[0.08827586, 0.25      ],\n",
              "       [0.62068966, 0.75      ],\n",
              "       [0.22068966, 0.5       ],\n",
              "       [0.24862069, 0.5       ],\n",
              "       [0.13793103, 0.25      ],\n",
              "       [0.12758621, 0.25      ],\n",
              "       [0.6662069 , 0.75      ],\n",
              "       [0.86206897, 0.75      ],\n",
              "       [0.17586207, 0.5       ],\n",
              "       [1.        , 1.        ],\n",
              "       [0.34482759, 0.5       ],\n",
              "       [0.68448276, 0.75      ],\n",
              "       [0.06896552, 0.25      ],\n",
              "       [0.10344828, 0.25      ],\n",
              "       [0.5       , 0.5       ],\n",
              "       [0.12931034, 0.25      ],\n",
              "       [0.13103448, 0.5       ],\n",
              "       [0.25517241, 0.5       ],\n",
              "       [0.67931034, 0.5       ],\n",
              "       [0.        , 0.        ]])"
            ]
          },
          "metadata": {
            "tags": []
          },
          "execution_count": 3
        }
      ]
    },
    {
      "cell_type": "code",
      "metadata": {
        "colab": {
          "base_uri": "https://localhost:8080/"
        },
        "id": "HjnRXvGo2Nxl",
        "outputId": "09bc64e4-d834-4cb3-f39d-0e0e93d2b1cd"
      },
      "source": [
        "scaled_y = y.fit_transform(df['price'].values.reshape(df.shape[0],1))\n",
        "scaled_y"
      ],
      "execution_count": null,
      "outputs": [
        {
          "output_type": "execute_result",
          "data": {
            "text/plain": [
              "array([[0.05237037],\n",
              "       [0.65185185],\n",
              "       [0.22222222],\n",
              "       [0.31851852],\n",
              "       [0.14074074],\n",
              "       [0.04444444],\n",
              "       [0.76296296],\n",
              "       [0.91111111],\n",
              "       [0.13333333],\n",
              "       [1.        ],\n",
              "       [0.37037037],\n",
              "       [0.8       ],\n",
              "       [0.04444444],\n",
              "       [0.05925926],\n",
              "       [0.51111111],\n",
              "       [0.07407407],\n",
              "       [0.11851852],\n",
              "       [0.20740741],\n",
              "       [0.51851852],\n",
              "       [0.        ]])"
            ]
          },
          "metadata": {
            "tags": []
          },
          "execution_count": 4
        }
      ]
    },
    {
      "cell_type": "code",
      "metadata": {
        "id": "fJYBRRKf2Pd9"
      },
      "source": [
        "w = np.ones(shape=(2))"
      ],
      "execution_count": null,
      "outputs": []
    },
    {
      "cell_type": "code",
      "metadata": {
        "colab": {
          "base_uri": "https://localhost:8080/"
        },
        "id": "Oi28GuYw2QsO",
        "outputId": "876700ee-041f-4b42-c534-d0aff37b8917"
      },
      "source": [
        "scaled_x.T"
      ],
      "execution_count": null,
      "outputs": [
        {
          "output_type": "execute_result",
          "data": {
            "text/plain": [
              "array([[0.08827586, 0.62068966, 0.22068966, 0.24862069, 0.13793103,\n",
              "        0.12758621, 0.6662069 , 0.86206897, 0.17586207, 1.        ,\n",
              "        0.34482759, 0.68448276, 0.06896552, 0.10344828, 0.5       ,\n",
              "        0.12931034, 0.13103448, 0.25517241, 0.67931034, 0.        ],\n",
              "       [0.25      , 0.75      , 0.5       , 0.5       , 0.25      ,\n",
              "        0.25      , 0.75      , 0.75      , 0.5       , 1.        ,\n",
              "        0.5       , 0.75      , 0.25      , 0.25      , 0.5       ,\n",
              "        0.25      , 0.5       , 0.5       , 0.5       , 0.        ]])"
            ]
          },
          "metadata": {
            "tags": []
          },
          "execution_count": 6
        }
      ]
    },
    {
      "cell_type": "code",
      "metadata": {
        "colab": {
          "base_uri": "https://localhost:8080/"
        },
        "id": "fdK0zP282SP3",
        "outputId": "55e11042-4373-4226-dc9a-fb94ae9dcd33"
      },
      "source": [
        "np.dot(w,scaled_x.T)"
      ],
      "execution_count": null,
      "outputs": [
        {
          "output_type": "execute_result",
          "data": {
            "text/plain": [
              "array([0.33827586, 1.37068966, 0.72068966, 0.74862069, 0.38793103,\n",
              "       0.37758621, 1.4162069 , 1.61206897, 0.67586207, 2.        ,\n",
              "       0.84482759, 1.43448276, 0.31896552, 0.35344828, 1.        ,\n",
              "       0.37931034, 0.63103448, 0.75517241, 1.17931034, 0.        ])"
            ]
          },
          "metadata": {
            "tags": []
          },
          "execution_count": 7
        }
      ]
    },
    {
      "cell_type": "code",
      "metadata": {
        "colab": {
          "base_uri": "https://localhost:8080/"
        },
        "id": "R1ESFMsh2UeX",
        "outputId": "0b5d550d-9e3d-4b16-ee36-affe460a6ee8"
      },
      "source": [
        "def BGD(x,y_true,epoch,learning_rate=0.01s):\n",
        "  number_of_fetures = x.shape[1]\n",
        " \n",
        "  w = np.ones(shape = (number_of_fetures)) #initialized w1,w2,and bias to be 1\n",
        "  b = 0 #1\n",
        "  total_samples = x.shape[0]\n",
        "\n",
        "  cost_list = [] \n",
        "  epoch_list = []\n",
        "\n",
        "  for i in range(epochs):\n",
        "    y_pred = np.dot(w,scaled_x.T) + b # w1*area + W2*bedrooms + bias\n",
        "\n",
        "    w_grad = -(2/total_samples)*(x.T.dot(y_true-y_pred)) # d(error)/dw\n",
        "    b_grad = -(2/total_samples)*np.sum(y_true-y_pred) # d(error)/db\n",
        "    \n",
        "    w = w - learning_rate * w_grad # w = w-learning rate * d(error)/dw\n",
        "    b = b - learning_rate * b_grad # b = b-learning rate * d(error)/db\n",
        "    \n",
        "    # mean square error (error=y-y^)\n",
        "    cost = np.mean(np.square(y_true-y_pred)) \n",
        "     \n",
        "    if i%10==0:\n",
        "      cost_list.append(cost)\n",
        "      epoch_list.append(i)\n",
        "  \n",
        "  return w, b, cost, cost_list, epoch_list    \n",
        "w, b, cost, cost_list, epoch_list = BGD(scaled_x,scaled_y.reshape(scaled_y.shape[0],),500)\n",
        "w, b, cost"
      ],
      "execution_count": null,
      "outputs": [
        {
          "output_type": "execute_result",
          "data": {
            "text/plain": [
              "(array([0.70712464, 0.67456527]), -0.23034857438407427, 0.0068641890429808105)"
            ]
          },
          "metadata": {
            "tags": []
          },
          "execution_count": 8
        }
      ]
    },
    {
      "cell_type": "code",
      "metadata": {
        "colab": {
          "base_uri": "https://localhost:8080/",
          "height": 296
        },
        "id": "uBpHA-u22WFA",
        "outputId": "f9ed8c48-f9eb-4bc7-e20f-010dccbe49b7"
      },
      "source": [
        "plt.xlabel(\"epoch\")\n",
        "plt.ylabel(\"cost\")\n",
        "plt.plot(epoch_list,cost_list)"
      ],
      "execution_count": null,
      "outputs": [
        {
          "output_type": "execute_result",
          "data": {
            "text/plain": [
              "[<matplotlib.lines.Line2D at 0x7f1bd7555950>]"
            ]
          },
          "metadata": {
            "tags": []
          },
          "execution_count": 9
        },
        {
          "output_type": "display_data",
          "data": {
            "image/png": "[encoded data removed]",
            "text/plain": [
              "<Figure size 432x288 with 1 Axes>"
            ]
          },
          "metadata": {
            "tags": [],
            "needs_background": "light"
          }
        }
      ]
    },
    {
      "cell_type": "code",
      "metadata": {
        "colab": {
          "base_uri": "https://localhost:8080/"
        },
        "id": "h0dmTPot2XoT",
        "outputId": "c1a39888-6dff-4950-8ff7-4b9ea4a234e2"
      },
      "source": [
        "y.inverse_transform([[1,0.5,0]])"
      ],
      "execution_count": null,
      "outputs": [
        {
          "output_type": "execute_result",
          "data": {
            "text/plain": [
              "array([[167. ,  99.5,  32. ]])"
            ]
          },
          "metadata": {
            "tags": []
          },
          "execution_count": 10
        }
      ]
    },
    {
      "cell_type": "code",
      "metadata": {
        "colab": {
          "base_uri": "https://localhost:8080/"
        },
        "id": "N5jFZn9S2Y2v",
        "outputId": "6f0ee870-db29-4a53-d5d0-2b8d9482b29b"
      },
      "source": [
        "def predict(area,bedrooms,w,b):\n",
        "  scaled_x = x.transform([[area, bedrooms]])[0]\n",
        "  scaled_price = w[0] * scaled_x[0] + w[1] * scaled_x[1] + b # \n",
        "  return y.inverse_transform([[scaled_price]])[0][0]\n",
        "\n",
        "predict(2600,4,w,b) "
      ],
      "execution_count": null,
      "outputs": [
        {
          "output_type": "execute_result",
          "data": {
            "text/plain": [
              "128.45484403267596"
            ]
          },
          "metadata": {
            "tags": []
          },
          "execution_count": 11
        }
      ]
    },
    {
      "cell_type": "code",
      "metadata": {
        "colab": {
          "base_uri": "https://localhost:8080/"
        },
        "id": "UIu7Ivr_2aLw",
        "outputId": "63de7499-7282-4364-946a-3e8e7c46bb03"
      },
      "source": [
        "predict(1000,2,w,b)"
      ],
      "execution_count": null,
      "outputs": [
        {
          "output_type": "execute_result",
          "data": {
            "text/plain": [
              "30.253094462442355"
            ]
          },
          "metadata": {
            "tags": []
          },
          "execution_count": 12
        }
      ]
    },
    {
      "cell_type": "code",
      "metadata": {
        "colab": {
          "base_uri": "https://localhost:8080/"
        },
        "id": "-N_BYO-G2qJp",
        "outputId": "958ecabf-b536-421f-c66d-17d7e33be479"
      },
      "source": [
        "import random\n",
        "random.randint(0,6)"
      ],
      "execution_count": null,
      "outputs": [
        {
          "output_type": "execute_result",
          "data": {
            "text/plain": [
              "1"
            ]
          },
          "metadata": {
            "tags": []
          },
          "execution_count": 13
        }
      ]
    },
    {
      "cell_type": "code",
      "metadata": {
        "colab": {
          "base_uri": "https://localhost:8080/"
        },
        "id": "MeUispi62tR7",
        "outputId": "685fd815-b25c-47b6-ae29-c99aba3e0ee9"
      },
      "source": [
        "def SGD(x,y_true,epochs,learning_rate=0.01):\n",
        "  number_of_fetures = x.shape[1]\n",
        "\n",
        "  w = np.ones(shape = (number_of_fetures))\n",
        "  b = 0\n",
        "  total_samples = x.shape[0]\n",
        "\n",
        "  cost_list = []\n",
        "  epoch_list = []\n",
        "\n",
        "  for i in range(epochs):\n",
        "    # randomly pick a value\n",
        "    random_index = random.randint(0,total_samples-1)\n",
        "    \n",
        "    sample_x = x[random_index]\n",
        "    sample_y = y_true[random_index]\n",
        "        \n",
        "    y_pred = np.dot(w, sample_x.T) + b\n",
        "    \n",
        "    w_grad = -(2/total_samples)*(sample_x.T.dot(sample_y-y_pred))\n",
        "    b_grad = -(2/total_samples)*(sample_y-y_pred)\n",
        "        \n",
        "    w = w - learning_rate * w_grad\n",
        "    b = b - learning_rate * b_grad\n",
        "        \n",
        "    cost = np.square(sample_y-y_pred)\n",
        "\n",
        "    if i%100 ==0:\n",
        "      cost_list.append(cost)\n",
        "      epoch_list.append(i)\n",
        "        \n",
        "  return w, b, cost, cost_list, epoch_list\n",
        "\n",
        "w_sgd, b_sgd, cost_sgd, cost_list_sgd, epoch_list_sgd = SGD(scaled_x,scaled_y.reshape(scaled_y.shape[0],),10000)\n",
        "w_sgd, b_sgd, cost_sgd  "
      ],
      "execution_count": null,
      "outputs": [
        {
          "output_type": "execute_result",
          "data": {
            "text/plain": [
              "(array([0.70592132, 0.67267818]), -0.2324144528976403, 0.0025534886052556932)"
            ]
          },
          "metadata": {
            "tags": []
          },
          "execution_count": 14
        }
      ]
    },
    {
      "cell_type": "code",
      "metadata": {
        "colab": {
          "base_uri": "https://localhost:8080/"
        },
        "id": "fFRbbFXe2vGi",
        "outputId": "a990616c-3fca-4f07-9946-32d515cb42d2"
      },
      "source": [
        "w , b , cost"
      ],
      "execution_count": null,
      "outputs": [
        {
          "output_type": "execute_result",
          "data": {
            "text/plain": [
              "(array([0.70712464, 0.67456527]), -0.23034857438407427, 0.0068641890429808105)"
            ]
          },
          "metadata": {
            "tags": []
          },
          "execution_count": 15
        }
      ]
    },
    {
      "cell_type": "code",
      "metadata": {
        "colab": {
          "base_uri": "https://localhost:8080/",
          "height": 300
        },
        "id": "8fVF-g9i2wNL",
        "outputId": "1d1c23f4-885e-4bac-f6bb-fce01f152812"
      },
      "source": [
        "plt.xlabel(\"epoch\")\n",
        "plt.ylabel(\"cost\")\n",
        "plt.plot(epoch_list_sgd,cost_list_sgd)"
      ],
      "execution_count": null,
      "outputs": [
        {
          "output_type": "execute_result",
          "data": {
            "text/plain": [
              "[<matplotlib.lines.Line2D at 0x7f1bd7048b50>]"
            ]
          },
          "metadata": {
            "tags": []
          },
          "execution_count": 16
        },
        {
          "output_type": "display_data",
          "data": {
            "image/png": "[encoded data removed]",
            "text/plain": [
              "<Figure size 432x288 with 1 Axes>"
            ]
          },
          "metadata": {
            "tags": [],
            "needs_background": "light"
          }
        }
      ]
    },
    {
      "cell_type": "code",
      "metadata": {
        "colab": {
          "base_uri": "https://localhost:8080/"
        },
        "id": "AeiHR0HX2xfq",
        "outputId": "da652d6a-0720-4f9a-865c-49823188a39c"
      },
      "source": [
        "predict(2600,4,w_sgd, b_sgd)"
      ],
      "execution_count": null,
      "outputs": [
        {
          "output_type": "execute_result",
          "data": {
            "text/plain": [
              "127.88405246238938"
            ]
          },
          "metadata": {
            "tags": []
          },
          "execution_count": 18
        }
      ]
    }
  ]
}