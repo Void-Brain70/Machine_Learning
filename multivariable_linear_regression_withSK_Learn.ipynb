{
  "nbformat": 4,
  "nbformat_minor": 0,
  "metadata": {
    "colab": {
      "name": "multivariable_linear_regression_withSK-Learn.ipynb",
      "provenance": [],
      "authorship_tag": "ABX9TyNogEOggFi/tYFPprH0cBqM",
      "include_colab_link": true
    },
    "kernelspec": {
      "name": "python3",
      "display_name": "Python 3"
    },
    "language_info": {
      "name": "python"
    }
  },
  "cells": [
    {
      "cell_type": "markdown",
      "metadata": {
        "id": "view-in-github",
        "colab_type": "text"
      },
      "source": [
        "<a href=\"https://colab.research.google.com/github/Void-Brain70/Machine_Learning/blob/main/multivariable_linear_regression_withSK_Learn.ipynb\" target=\"_parent\"><img src=\"https://colab.research.google.com/assets/colab-badge.svg\" alt=\"Open In Colab\"/></a>"
      ]
    },
    {
      "cell_type": "code",
      "metadata": {
        "id": "A7mbqttfQXXg"
      },
      "source": [
        "import pandas as pd\n",
        "import numpy as mp\n",
        "from sklearn import linear_model"
      ],
      "execution_count": 1,
      "outputs": []
    },
    {
      "cell_type": "code",
      "metadata": {
        "colab": {
          "base_uri": "https://localhost:8080/",
          "height": 235
        },
        "id": "MTkWRXOXSQlI",
        "outputId": "9d96a553-c6da-4681-bb48-c7e18dd2957d"
      },
      "source": [
        "df = pd.read_csv(\"/content/car driving risk analysis.csv\")\n",
        "df"
      ],
      "execution_count": 2,
      "outputs": [
        {
          "output_type": "execute_result",
          "data": {
            "text/html": [
              "<div>\n",
              "<style scoped>\n",
              "    .dataframe tbody tr th:only-of-type {\n",
              "        vertical-align: middle;\n",
              "    }\n",
              "\n",
              "    .dataframe tbody tr th {\n",
              "        vertical-align: top;\n",
              "    }\n",
              "\n",
              "    .dataframe thead th {\n",
              "        text-align: right;\n",
              "    }\n",
              "</style>\n",
              "<table border=\"1\" class=\"dataframe\">\n",
              "  <thead>\n",
              "    <tr style=\"text-align: right;\">\n",
              "      <th></th>\n",
              "      <th>speed</th>\n",
              "      <th>car_age</th>\n",
              "      <th>experience</th>\n",
              "      <th>risk</th>\n",
              "    </tr>\n",
              "  </thead>\n",
              "  <tbody>\n",
              "    <tr>\n",
              "      <th>0</th>\n",
              "      <td>200</td>\n",
              "      <td>15</td>\n",
              "      <td>5.0</td>\n",
              "      <td>85</td>\n",
              "    </tr>\n",
              "    <tr>\n",
              "      <th>1</th>\n",
              "      <td>90</td>\n",
              "      <td>17</td>\n",
              "      <td>13.0</td>\n",
              "      <td>20</td>\n",
              "    </tr>\n",
              "    <tr>\n",
              "      <th>2</th>\n",
              "      <td>165</td>\n",
              "      <td>12</td>\n",
              "      <td>4.0</td>\n",
              "      <td>93</td>\n",
              "    </tr>\n",
              "    <tr>\n",
              "      <th>3</th>\n",
              "      <td>110</td>\n",
              "      <td>20</td>\n",
              "      <td>NaN</td>\n",
              "      <td>60</td>\n",
              "    </tr>\n",
              "    <tr>\n",
              "      <th>4</th>\n",
              "      <td>140</td>\n",
              "      <td>5</td>\n",
              "      <td>3.0</td>\n",
              "      <td>82</td>\n",
              "    </tr>\n",
              "    <tr>\n",
              "      <th>5</th>\n",
              "      <td>115</td>\n",
              "      <td>2</td>\n",
              "      <td>8.0</td>\n",
              "      <td>10</td>\n",
              "    </tr>\n",
              "  </tbody>\n",
              "</table>\n",
              "</div>"
            ],
            "text/plain": [
              "   speed  car_age  experience  risk\n",
              "0    200       15         5.0    85\n",
              "1     90       17        13.0    20\n",
              "2    165       12         4.0    93\n",
              "3    110       20         NaN    60\n",
              "4    140        5         3.0    82\n",
              "5    115        2         8.0    10"
            ]
          },
          "metadata": {},
          "execution_count": 2
        }
      ]
    },
    {
      "cell_type": "code",
      "metadata": {
        "colab": {
          "base_uri": "https://localhost:8080/"
        },
        "id": "4UYsbNUMUcif",
        "outputId": "65be5aed-dc5d-4900-a021-c672b9441f49"
      },
      "source": [
        "df.experience"
      ],
      "execution_count": 3,
      "outputs": [
        {
          "output_type": "execute_result",
          "data": {
            "text/plain": [
              "0     5.0\n",
              "1    13.0\n",
              "2     4.0\n",
              "3     NaN\n",
              "4     3.0\n",
              "5     8.0\n",
              "Name: experience, dtype: float64"
            ]
          },
          "metadata": {},
          "execution_count": 3
        }
      ]
    },
    {
      "cell_type": "code",
      "metadata": {
        "colab": {
          "base_uri": "https://localhost:8080/"
        },
        "id": "_ewSz87eUqXh",
        "outputId": "af82b55c-b029-4afa-a9ef-fca9ddbe7f08"
      },
      "source": [
        "#df.experience.mean()\n",
        "exp_fit = df.experience.median()\n",
        "exp_fit"
      ],
      "execution_count": 6,
      "outputs": [
        {
          "output_type": "execute_result",
          "data": {
            "text/plain": [
              "5.0"
            ]
          },
          "metadata": {},
          "execution_count": 6
        }
      ]
    },
    {
      "cell_type": "code",
      "metadata": {
        "colab": {
          "base_uri": "https://localhost:8080/"
        },
        "id": "UPF1Z-1zU_X_",
        "outputId": "293d2e9c-6a28-46d6-c31d-cf2ef3f0cba1"
      },
      "source": [
        "df.experience = df.experience.fillna(exp_fit)\n",
        "df.experience"
      ],
      "execution_count": 7,
      "outputs": [
        {
          "output_type": "execute_result",
          "data": {
            "text/plain": [
              "0     5.0\n",
              "1    13.0\n",
              "2     4.0\n",
              "3     5.0\n",
              "4     3.0\n",
              "5     8.0\n",
              "Name: experience, dtype: float64"
            ]
          },
          "metadata": {},
          "execution_count": 7
        }
      ]
    },
    {
      "cell_type": "code",
      "metadata": {
        "id": "faa78JGGVuqD"
      },
      "source": [
        "reg = linear_model.LinearRegression()"
      ],
      "execution_count": 8,
      "outputs": []
    },
    {
      "cell_type": "code",
      "metadata": {
        "colab": {
          "base_uri": "https://localhost:8080/"
        },
        "id": "5McMOglMV7eK",
        "outputId": "2e79f8ac-0b4f-45fd-a452-6b370683a20f"
      },
      "source": [
        "reg.fit(df[['speed','car_age','experience']],df.risk)"
      ],
      "execution_count": 9,
      "outputs": [
        {
          "output_type": "execute_result",
          "data": {
            "text/plain": [
              "LinearRegression(copy_X=True, fit_intercept=True, n_jobs=None, normalize=False)"
            ]
          },
          "metadata": {},
          "execution_count": 9
        }
      ]
    },
    {
      "cell_type": "code",
      "metadata": {
        "colab": {
          "base_uri": "https://localhost:8080/"
        },
        "id": "BFX6in_EWOfW",
        "outputId": "437e83cf-286c-4aa3-a30b-3cc043cb3463"
      },
      "source": [
        "reg.predict([[160,10,5]])"
      ],
      "execution_count": 10,
      "outputs": [
        {
          "output_type": "execute_result",
          "data": {
            "text/plain": [
              "array([71.37146872])"
            ]
          },
          "metadata": {},
          "execution_count": 10
        }
      ]
    },
    {
      "cell_type": "code",
      "metadata": {
        "colab": {
          "base_uri": "https://localhost:8080/"
        },
        "id": "F6Q0RKVYWyRJ",
        "outputId": "b0d5adc8-fcc9-454c-d7fa-421d93dc4cc2"
      },
      "source": [
        "reg.coef_"
      ],
      "execution_count": 11,
      "outputs": [
        {
          "output_type": "execute_result",
          "data": {
            "text/plain": [
              "array([ 0.33059217,  1.61053246, -6.20772074])"
            ]
          },
          "metadata": {},
          "execution_count": 11
        }
      ]
    },
    {
      "cell_type": "code",
      "metadata": {
        "colab": {
          "base_uri": "https://localhost:8080/"
        },
        "id": "dBQvLs5wW7bC",
        "outputId": "a93af971-d701-47c6-f827-309f81e3ecd3"
      },
      "source": [
        "reg.intercept_"
      ],
      "execution_count": 12,
      "outputs": [
        {
          "output_type": "execute_result",
          "data": {
            "text/plain": [
              "33.4100009104359"
            ]
          },
          "metadata": {},
          "execution_count": 12
        }
      ]
    },
    {
      "cell_type": "code",
      "metadata": {
        "colab": {
          "base_uri": "https://localhost:8080/"
        },
        "id": "k5PeM4IOXyLw",
        "outputId": "a9d5e5d3-e19d-4051-d16b-4a04feaa5fd9"
      },
      "source": [
        "#risk = M1*speed+ M2*car_age+M3*experience+intercept\n",
        "risk = 0.33059217*160+1.61053246*10+-6.20772074*5+33.4100009104359\n",
        "risk"
      ],
      "execution_count": 16,
      "outputs": [
        {
          "output_type": "execute_result",
          "data": {
            "text/plain": [
              "71.3714690104359"
            ]
          },
          "metadata": {},
          "execution_count": 16
        }
      ]
    }
  ]
}